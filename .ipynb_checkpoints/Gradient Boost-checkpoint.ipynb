{
 "cells": [
  {
   "cell_type": "code",
   "execution_count": 11,
   "id": "ac7f4660",
   "metadata": {},
   "outputs": [],
   "source": [
    "import pandas as pd\n",
    "from sklearn.linear_model import LogisticRegression\n",
    "from sklearn.pipeline import Pipeline\n",
    "from sklearn.ensemble import GradientBoostingClassifier, AdaBoostClassifier\n",
    "from sklearn.model_selection import train_test_split, GridSearchCV\n",
    "from sklearn.metrics import plot_confusion_matrix"
   ]
  },
  {
   "cell_type": "code",
   "execution_count": 12,
   "id": "b71c1ae0",
   "metadata": {},
   "outputs": [],
   "source": [
    "df = pd.read_csv('all_4000_posts.csv')"
   ]
  },
  {
   "cell_type": "code",
   "execution_count": 13,
   "id": "2c4092ff",
   "metadata": {},
   "outputs": [],
   "source": [
    "df.drop(columns=\"Unnamed: 0\", inplace=True)"
   ]
  },
  {
   "cell_type": "code",
   "execution_count": 14,
   "id": "912775dd",
   "metadata": {},
   "outputs": [],
   "source": [
    "df['selftext'] = df['selftext'].fillna('n/a')\n"
   ]
  },
  {
   "cell_type": "code",
   "execution_count": 15,
   "id": "ff51c521",
   "metadata": {},
   "outputs": [],
   "source": [
    "df['title_and_st'] = df['title'] + df['selftext']"
   ]
  },
  {
   "cell_type": "code",
   "execution_count": 16,
   "id": "0eb8b4d2",
   "metadata": {},
   "outputs": [
    {
     "data": {
      "text/plain": [
       "0"
      ]
     },
     "execution_count": 16,
     "metadata": {},
     "output_type": "execute_result"
    }
   ],
   "source": [
    "df.duplicated(subset=None, keep='first').sum()"
   ]
  },
  {
   "cell_type": "code",
   "execution_count": 17,
   "id": "222337ea",
   "metadata": {},
   "outputs": [],
   "source": [
    "df['subreddit'] = df['subreddit'].map({'Liberal':1, \"Conservative\":0})"
   ]
  },
  {
   "cell_type": "code",
   "execution_count": 18,
   "id": "9fb92ba7",
   "metadata": {},
   "outputs": [],
   "source": [
    "X = df['title_and_st']\n",
    "y = df['subreddit']"
   ]
  },
  {
   "cell_type": "code",
   "execution_count": null,
   "id": "5c386af3",
   "metadata": {},
   "outputs": [],
   "source": []
  }
 ],
 "metadata": {
  "kernelspec": {
   "display_name": "Python 3",
   "language": "python",
   "name": "python3"
  },
  "language_info": {
   "codemirror_mode": {
    "name": "ipython",
    "version": 3
   },
   "file_extension": ".py",
   "mimetype": "text/x-python",
   "name": "python",
   "nbconvert_exporter": "python",
   "pygments_lexer": "ipython3",
   "version": "3.8.8"
  }
 },
 "nbformat": 4,
 "nbformat_minor": 5
}
