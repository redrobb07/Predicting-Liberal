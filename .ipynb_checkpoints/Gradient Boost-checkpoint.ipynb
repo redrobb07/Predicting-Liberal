{
 "cells": [
  {
   "cell_type": "code",
   "execution_count": 1,
   "id": "ac7f4660",
   "metadata": {},
   "outputs": [],
   "source": [
    "import pandas as pd\n",
    "from sklearn.pipeline import Pipeline\n",
    "from sklearn.feature_extraction.text import TfidfVectorizer\n",
    "from sklearn.ensemble import GradientBoostingClassifier, AdaBoostClassifier, VotingClassifier, RandomForestClassifier\n",
    "from sklearn.model_selection import train_test_split, GridSearchCV\n",
    "from sklearn.metrics import plot_confusion_matrix\n",
    "from sklearn.tree import DecisionTreeClassifier\n",
    "from sklearn.linear_model import LogisticRegression\n"
   ]
  },
  {
   "cell_type": "code",
   "execution_count": 2,
   "id": "b71c1ae0",
   "metadata": {},
   "outputs": [],
   "source": [
    "df = pd.read_csv('all_4000_posts.csv')"
   ]
  },
  {
   "cell_type": "code",
   "execution_count": 3,
   "id": "2c4092ff",
   "metadata": {},
   "outputs": [],
   "source": [
    "df.drop(columns=\"Unnamed: 0\", inplace=True)"
   ]
  },
  {
   "cell_type": "code",
   "execution_count": 4,
   "id": "912775dd",
   "metadata": {},
   "outputs": [],
   "source": [
    "df['selftext'] = df['selftext'].fillna('n/a')\n"
   ]
  },
  {
   "cell_type": "code",
   "execution_count": 5,
   "id": "b3e6a774",
   "metadata": {},
   "outputs": [],
   "source": [
    "# df['selftext'].value_counts()"
   ]
  },
  {
   "cell_type": "code",
   "execution_count": 6,
   "id": "341508ac",
   "metadata": {},
   "outputs": [
    {
     "data": {
      "text/plain": [
       "683"
      ]
     },
     "execution_count": 6,
     "metadata": {},
     "output_type": "execute_result"
    }
   ],
   "source": [
    "(df['selftext'] == '[removed]').sum()"
   ]
  },
  {
   "cell_type": "code",
   "execution_count": 7,
   "id": "ff51c521",
   "metadata": {},
   "outputs": [],
   "source": [
    "df['title_and_st'] = df['title'] + df['selftext']"
   ]
  },
  {
   "cell_type": "code",
   "execution_count": 8,
   "id": "0eb8b4d2",
   "metadata": {},
   "outputs": [
    {
     "data": {
      "text/plain": [
       "0"
      ]
     },
     "execution_count": 8,
     "metadata": {},
     "output_type": "execute_result"
    }
   ],
   "source": [
    "df.duplicated(subset=None, keep='first').sum()"
   ]
  },
  {
   "cell_type": "code",
   "execution_count": 9,
   "id": "222337ea",
   "metadata": {},
   "outputs": [],
   "source": [
    "df['subreddit'] = df['subreddit'].map({'Liberal':1, \"Conservative\":0})"
   ]
  },
  {
   "cell_type": "code",
   "execution_count": 10,
   "id": "9fb92ba7",
   "metadata": {},
   "outputs": [],
   "source": [
    "X = df['title_and_st']\n",
    "y = df['subreddit']"
   ]
  },
  {
   "cell_type": "code",
   "execution_count": 11,
   "id": "5c386af3",
   "metadata": {},
   "outputs": [],
   "source": [
    "X_train, X_val, y_train, y_val = train_test_split(X, y, random_state=42, stratify=y)"
   ]
  },
  {
   "cell_type": "code",
   "execution_count": 12,
   "id": "476f8294",
   "metadata": {},
   "outputs": [],
   "source": [
    "# https://stackoverflow.com/questions/5511708/adding-words-to-nltk-stoplist\n",
    "import nltk\n",
    "\n",
    "stopwords = nltk.corpus.stopwords.words('english')\n",
    "stopwords.append('removed')"
   ]
  },
  {
   "cell_type": "code",
   "execution_count": 24,
   "id": "481dc759",
   "metadata": {},
   "outputs": [],
   "source": [
    "tvec = TfidfVectorizer(stop_words='english', binary=True, max_df=.2, min_df=1, max_features=4000, \n",
    "                      ngram_range=(1,2))\n"
   ]
  },
  {
   "cell_type": "code",
   "execution_count": 25,
   "id": "534a04b8",
   "metadata": {},
   "outputs": [],
   "source": [
    "X_train_vec = tvec.fit_transform(X_train)"
   ]
  },
  {
   "cell_type": "code",
   "execution_count": 26,
   "id": "2278671a",
   "metadata": {},
   "outputs": [],
   "source": [
    "X_val_vec = tvec.transform(X_val)"
   ]
  },
  {
   "cell_type": "code",
   "execution_count": 50,
   "id": "180d0953",
   "metadata": {},
   "outputs": [],
   "source": [
    "from sklearn.neighbors import KNeighborsClassifier\n",
    "from sklearn.preprocessing import StandardScaler\n",
    "knn_pipe = Pipeline([\n",
    "    ('ss', StandardScaler(with_mean=False)),\n",
    "    ('knn', KNeighborsClassifier())\n",
    "])"
   ]
  },
  {
   "cell_type": "code",
   "execution_count": 52,
   "id": "11dbce79",
   "metadata": {},
   "outputs": [
    {
     "name": "stdout",
     "output_type": "stream",
     "text": [
      "0.7555893155258764\n"
     ]
    },
    {
     "data": {
      "text/plain": [
       "{'log__C': 0.85, 'log__max_iter': 30, 'log__penalty': 'l2'}"
      ]
     },
     "execution_count": 52,
     "metadata": {},
     "output_type": "execute_result"
    }
   ],
   "source": [
    "vote = VotingClassifier([\n",
    "#     ('ada',AdaBoostClassifier(base_estimator=DecisionTreeClassifier())),\n",
    "#     ('gb', GradientBoostingClassifier()),\n",
    "#     ('rt', RandomForestClassifier()),\n",
    "    ('log', LogisticRegression()),\n",
    "#     ('knn_pipe', knn_pipe)\n",
    "])\n",
    "params = {\n",
    "#     'gb__n_estimators': [200],\n",
    "#     'ada__base_estimator__max_depth': [1, 2, 3],\n",
    "#     'rt__n_estimators':[200],\n",
    "    'log__penalty':['l2'],\n",
    "    'log__C': [.85],\n",
    "    'log__max_iter': [30],\n",
    "#     'knn_pipe__knn__n_neighbors': [3, 4, 5, 6]\n",
    "}\n",
    "\n",
    "gs = GridSearchCV(vote, param_grid=params)\n",
    "gs.fit(X_train_vec, y_train)\n",
    "print(gs.best_score_)\n",
    "gs.best_params_"
   ]
  },
  {
   "cell_type": "code",
   "execution_count": 53,
   "id": "9bc179ba",
   "metadata": {},
   "outputs": [
    {
     "data": {
      "image/png": "[encoded data removed]",
      "text/plain": [
       "<Figure size 432x288 with 2 Axes>"
      ]
     },
     "metadata": {
      "needs_background": "light"
     },
     "output_type": "display_data"
    }
   ],
   "source": [
    "plot_confusion_matrix(gs, X_val_vec, y_val, display_labels=['Conservtive', 'Liberal']);"
   ]
  },
  {
   "cell_type": "code",
   "execution_count": null,
   "id": "08235036",
   "metadata": {},
   "outputs": [],
   "source": [
    "# convert training data to dataframe\n",
    "X_train_df = pd.DataFrame(tvec.fit_transform(X_train).todense(), \n",
    "                          columns=tvec.get_feature_names())\n",
    "\n",
    "# plot top occuring words\n",
    "X_train_df.sum().sort_values(ascending=False).head(10).plot(kind='barh');"
   ]
  }
 ],
 "metadata": {
  "kernelspec": {
   "display_name": "Python 3",
   "language": "python",
   "name": "python3"
  },
  "language_info": {
   "codemirror_mode": {
    "name": "ipython",
    "version": 3
   },
   "file_extension": ".py",
   "mimetype": "text/x-python",
   "name": "python",
   "nbconvert_exporter": "python",
   "pygments_lexer": "ipython3",
   "version": "3.8.8"
  }
 },
 "nbformat": 4,
 "nbformat_minor": 5
}
