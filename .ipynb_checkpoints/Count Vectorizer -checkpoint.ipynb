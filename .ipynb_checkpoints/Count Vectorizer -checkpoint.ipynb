{
 "cells": [
  {
   "cell_type": "code",
   "execution_count": 126,
   "id": "cd80fbd3",
   "metadata": {},
   "outputs": [],
   "source": [
    "import pandas as pd\n",
    "from sklearn.linear_model import LogisticRegression\n",
    "from sklearn.pipeline import Pipeline\n",
    "from sklearn.model_selection import train_test_split, GridSearchCV\n",
    "from sklearn.metrics import plot_confusion_matrix\n",
    "from sklearn.feature_extraction.text import CountVectorizer\n",
    "\n",
    "from nltk.tokenize import sent_tokenize, word_tokenize, RegexpTokenizer\n",
    "from nltk.stem import WordNetLemmatizer\n",
    "from nltk.stem.porter import PorterStemmer"
   ]
  },
  {
   "cell_type": "code",
   "execution_count": 2,
   "id": "46a3f509",
   "metadata": {},
   "outputs": [
    {
     "data": {
      "text/html": [
       "<div>\n",
       "<style scoped>\n",
       "    .dataframe tbody tr th:only-of-type {\n",
       "        vertical-align: middle;\n",
       "    }\n",
       "\n",
       "    .dataframe tbody tr th {\n",
       "        vertical-align: top;\n",
       "    }\n",
       "\n",
       "    .dataframe thead th {\n",
       "        text-align: right;\n",
       "    }\n",
       "</style>\n",
       "<table border=\"1\" class=\"dataframe\">\n",
       "  <thead>\n",
       "    <tr style=\"text-align: right;\">\n",
       "      <th></th>\n",
       "      <th>Unnamed: 0</th>\n",
       "      <th>all_awardings</th>\n",
       "      <th>allow_live_comments</th>\n",
       "      <th>author</th>\n",
       "      <th>author_flair_css_class</th>\n",
       "      <th>author_flair_richtext</th>\n",
       "      <th>author_flair_text</th>\n",
       "      <th>author_flair_type</th>\n",
       "      <th>author_fullname</th>\n",
       "      <th>author_is_blocked</th>\n",
       "      <th>...</th>\n",
       "      <th>author_flair_text_color</th>\n",
       "      <th>author_cakeday</th>\n",
       "      <th>banned_by</th>\n",
       "      <th>link_flair_template_id</th>\n",
       "      <th>suggested_sort</th>\n",
       "      <th>author_flair_template_id</th>\n",
       "      <th>link_flair_css_class</th>\n",
       "      <th>is_gallery</th>\n",
       "      <th>gallery_data</th>\n",
       "      <th>media_metadata</th>\n",
       "    </tr>\n",
       "  </thead>\n",
       "  <tbody>\n",
       "    <tr>\n",
       "      <th>0</th>\n",
       "      <td>0</td>\n",
       "      <td>[]</td>\n",
       "      <td>False</td>\n",
       "      <td>Polyscistud-ent</td>\n",
       "      <td>NaN</td>\n",
       "      <td>[]</td>\n",
       "      <td>NaN</td>\n",
       "      <td>text</td>\n",
       "      <td>t2_blu9cyii</td>\n",
       "      <td>False</td>\n",
       "      <td>...</td>\n",
       "      <td>NaN</td>\n",
       "      <td>NaN</td>\n",
       "      <td>NaN</td>\n",
       "      <td>NaN</td>\n",
       "      <td>NaN</td>\n",
       "      <td>NaN</td>\n",
       "      <td>NaN</td>\n",
       "      <td>NaN</td>\n",
       "      <td>NaN</td>\n",
       "      <td>NaN</td>\n",
       "    </tr>\n",
       "    <tr>\n",
       "      <th>1</th>\n",
       "      <td>1</td>\n",
       "      <td>[]</td>\n",
       "      <td>False</td>\n",
       "      <td>icantspellthatgood</td>\n",
       "      <td>NaN</td>\n",
       "      <td>[]</td>\n",
       "      <td>NaN</td>\n",
       "      <td>text</td>\n",
       "      <td>t2_1zkps2t4</td>\n",
       "      <td>False</td>\n",
       "      <td>...</td>\n",
       "      <td>NaN</td>\n",
       "      <td>NaN</td>\n",
       "      <td>NaN</td>\n",
       "      <td>NaN</td>\n",
       "      <td>NaN</td>\n",
       "      <td>NaN</td>\n",
       "      <td>NaN</td>\n",
       "      <td>NaN</td>\n",
       "      <td>NaN</td>\n",
       "      <td>NaN</td>\n",
       "    </tr>\n",
       "    <tr>\n",
       "      <th>2</th>\n",
       "      <td>2</td>\n",
       "      <td>[]</td>\n",
       "      <td>False</td>\n",
       "      <td>redditor01020</td>\n",
       "      <td>NaN</td>\n",
       "      <td>[]</td>\n",
       "      <td>NaN</td>\n",
       "      <td>text</td>\n",
       "      <td>t2_d29z7</td>\n",
       "      <td>False</td>\n",
       "      <td>...</td>\n",
       "      <td>NaN</td>\n",
       "      <td>NaN</td>\n",
       "      <td>NaN</td>\n",
       "      <td>NaN</td>\n",
       "      <td>NaN</td>\n",
       "      <td>NaN</td>\n",
       "      <td>NaN</td>\n",
       "      <td>NaN</td>\n",
       "      <td>NaN</td>\n",
       "      <td>NaN</td>\n",
       "    </tr>\n",
       "    <tr>\n",
       "      <th>3</th>\n",
       "      <td>3</td>\n",
       "      <td>[]</td>\n",
       "      <td>False</td>\n",
       "      <td>Due-Inspector</td>\n",
       "      <td>NaN</td>\n",
       "      <td>[]</td>\n",
       "      <td>NaN</td>\n",
       "      <td>text</td>\n",
       "      <td>t2_5f7aa318</td>\n",
       "      <td>False</td>\n",
       "      <td>...</td>\n",
       "      <td>NaN</td>\n",
       "      <td>NaN</td>\n",
       "      <td>NaN</td>\n",
       "      <td>NaN</td>\n",
       "      <td>NaN</td>\n",
       "      <td>NaN</td>\n",
       "      <td>NaN</td>\n",
       "      <td>NaN</td>\n",
       "      <td>NaN</td>\n",
       "      <td>NaN</td>\n",
       "    </tr>\n",
       "    <tr>\n",
       "      <th>4</th>\n",
       "      <td>4</td>\n",
       "      <td>[]</td>\n",
       "      <td>False</td>\n",
       "      <td>Lord_Mozes</td>\n",
       "      <td>NaN</td>\n",
       "      <td>[]</td>\n",
       "      <td>NaN</td>\n",
       "      <td>text</td>\n",
       "      <td>t2_ncjje</td>\n",
       "      <td>False</td>\n",
       "      <td>...</td>\n",
       "      <td>NaN</td>\n",
       "      <td>NaN</td>\n",
       "      <td>NaN</td>\n",
       "      <td>NaN</td>\n",
       "      <td>NaN</td>\n",
       "      <td>NaN</td>\n",
       "      <td>NaN</td>\n",
       "      <td>NaN</td>\n",
       "      <td>NaN</td>\n",
       "      <td>NaN</td>\n",
       "    </tr>\n",
       "  </tbody>\n",
       "</table>\n",
       "<p>5 rows × 82 columns</p>\n",
       "</div>"
      ],
      "text/plain": [
       "   Unnamed: 0 all_awardings  allow_live_comments              author  \\\n",
       "0           0            []                False     Polyscistud-ent   \n",
       "1           1            []                False  icantspellthatgood   \n",
       "2           2            []                False       redditor01020   \n",
       "3           3            []                False       Due-Inspector   \n",
       "4           4            []                False          Lord_Mozes   \n",
       "\n",
       "  author_flair_css_class author_flair_richtext author_flair_text  \\\n",
       "0                    NaN                    []               NaN   \n",
       "1                    NaN                    []               NaN   \n",
       "2                    NaN                    []               NaN   \n",
       "3                    NaN                    []               NaN   \n",
       "4                    NaN                    []               NaN   \n",
       "\n",
       "  author_flair_type author_fullname  author_is_blocked  ...  \\\n",
       "0              text     t2_blu9cyii              False  ...   \n",
       "1              text     t2_1zkps2t4              False  ...   \n",
       "2              text        t2_d29z7              False  ...   \n",
       "3              text     t2_5f7aa318              False  ...   \n",
       "4              text        t2_ncjje              False  ...   \n",
       "\n",
       "  author_flair_text_color author_cakeday banned_by  link_flair_template_id  \\\n",
       "0                     NaN            NaN       NaN                     NaN   \n",
       "1                     NaN            NaN       NaN                     NaN   \n",
       "2                     NaN            NaN       NaN                     NaN   \n",
       "3                     NaN            NaN       NaN                     NaN   \n",
       "4                     NaN            NaN       NaN                     NaN   \n",
       "\n",
       "   suggested_sort  author_flair_template_id link_flair_css_class is_gallery  \\\n",
       "0             NaN                       NaN                  NaN        NaN   \n",
       "1             NaN                       NaN                  NaN        NaN   \n",
       "2             NaN                       NaN                  NaN        NaN   \n",
       "3             NaN                       NaN                  NaN        NaN   \n",
       "4             NaN                       NaN                  NaN        NaN   \n",
       "\n",
       "  gallery_data media_metadata  \n",
       "0          NaN            NaN  \n",
       "1          NaN            NaN  \n",
       "2          NaN            NaN  \n",
       "3          NaN            NaN  \n",
       "4          NaN            NaN  \n",
       "\n",
       "[5 rows x 82 columns]"
      ]
     },
     "execution_count": 2,
     "metadata": {},
     "output_type": "execute_result"
    }
   ],
   "source": [
    "df = pd.read_csv('all_2000_posts.csv')\n",
    "df.head()"
   ]
  },
  {
   "cell_type": "code",
   "execution_count": 3,
   "id": "e24d6fa8",
   "metadata": {},
   "outputs": [
    {
     "data": {
      "text/html": [
       "<div>\n",
       "<style scoped>\n",
       "    .dataframe tbody tr th:only-of-type {\n",
       "        vertical-align: middle;\n",
       "    }\n",
       "\n",
       "    .dataframe tbody tr th {\n",
       "        vertical-align: top;\n",
       "    }\n",
       "\n",
       "    .dataframe thead th {\n",
       "        text-align: right;\n",
       "    }\n",
       "</style>\n",
       "<table border=\"1\" class=\"dataframe\">\n",
       "  <thead>\n",
       "    <tr style=\"text-align: right;\">\n",
       "      <th></th>\n",
       "      <th>title</th>\n",
       "      <th>selftext</th>\n",
       "      <th>subreddit</th>\n",
       "      <th>created_utc</th>\n",
       "    </tr>\n",
       "  </thead>\n",
       "  <tbody>\n",
       "    <tr>\n",
       "      <th>0</th>\n",
       "      <td>Please take my Political Participation Survey!!!</td>\n",
       "      <td>NaN</td>\n",
       "      <td>Liberal</td>\n",
       "      <td>1636581069</td>\n",
       "    </tr>\n",
       "    <tr>\n",
       "      <th>1</th>\n",
       "      <td>moderate liberal here. if you believe kyle rit...</td>\n",
       "      <td>this is the most clear cut case of self defens...</td>\n",
       "      <td>Liberal</td>\n",
       "      <td>1636577816</td>\n",
       "    </tr>\n",
       "    <tr>\n",
       "      <th>2</th>\n",
       "      <td>Warren presses Biden on pardons for nonviolent...</td>\n",
       "      <td>NaN</td>\n",
       "      <td>Liberal</td>\n",
       "      <td>1636577051</td>\n",
       "    </tr>\n",
       "    <tr>\n",
       "      <th>3</th>\n",
       "      <td>How is there nothing here on the Rittenhouse t...</td>\n",
       "      <td>[removed]</td>\n",
       "      <td>Liberal</td>\n",
       "      <td>1636571593</td>\n",
       "    </tr>\n",
       "    <tr>\n",
       "      <th>4</th>\n",
       "      <td>I have a sick feeling Ahmad Arbery's killers a...</td>\n",
       "      <td>[removed]</td>\n",
       "      <td>Liberal</td>\n",
       "      <td>1636568352</td>\n",
       "    </tr>\n",
       "    <tr>\n",
       "      <th>...</th>\n",
       "      <td>...</td>\n",
       "      <td>...</td>\n",
       "      <td>...</td>\n",
       "      <td>...</td>\n",
       "    </tr>\n",
       "    <tr>\n",
       "      <th>1995</th>\n",
       "      <td>I think it might have been self-defense</td>\n",
       "      <td>NaN</td>\n",
       "      <td>Conservative</td>\n",
       "      <td>1636415533</td>\n",
       "    </tr>\n",
       "    <tr>\n",
       "      <th>1996</th>\n",
       "      <td>Sports is War by other means. Football- An Une...</td>\n",
       "      <td>NaN</td>\n",
       "      <td>Conservative</td>\n",
       "      <td>1636415473</td>\n",
       "    </tr>\n",
       "    <tr>\n",
       "      <th>1997</th>\n",
       "      <td>Poland: Belarus sends thousands of illegal ali...</td>\n",
       "      <td>NaN</td>\n",
       "      <td>Conservative</td>\n",
       "      <td>1636415339</td>\n",
       "    </tr>\n",
       "    <tr>\n",
       "      <th>1998</th>\n",
       "      <td>Prosecution's Main Witness Admits Kyle Rittenh...</td>\n",
       "      <td>NaN</td>\n",
       "      <td>Conservative</td>\n",
       "      <td>1636415328</td>\n",
       "    </tr>\n",
       "    <tr>\n",
       "      <th>1999</th>\n",
       "      <td>White House tells businesses to proceed with v...</td>\n",
       "      <td>NaN</td>\n",
       "      <td>Conservative</td>\n",
       "      <td>1636415188</td>\n",
       "    </tr>\n",
       "  </tbody>\n",
       "</table>\n",
       "<p>2000 rows × 4 columns</p>\n",
       "</div>"
      ],
      "text/plain": [
       "                                                  title  \\\n",
       "0      Please take my Political Participation Survey!!!   \n",
       "1     moderate liberal here. if you believe kyle rit...   \n",
       "2     Warren presses Biden on pardons for nonviolent...   \n",
       "3     How is there nothing here on the Rittenhouse t...   \n",
       "4     I have a sick feeling Ahmad Arbery's killers a...   \n",
       "...                                                 ...   \n",
       "1995            I think it might have been self-defense   \n",
       "1996  Sports is War by other means. Football- An Une...   \n",
       "1997  Poland: Belarus sends thousands of illegal ali...   \n",
       "1998  Prosecution's Main Witness Admits Kyle Rittenh...   \n",
       "1999  White House tells businesses to proceed with v...   \n",
       "\n",
       "                                               selftext     subreddit  \\\n",
       "0                                                   NaN       Liberal   \n",
       "1     this is the most clear cut case of self defens...       Liberal   \n",
       "2                                                   NaN       Liberal   \n",
       "3                                             [removed]       Liberal   \n",
       "4                                             [removed]       Liberal   \n",
       "...                                                 ...           ...   \n",
       "1995                                                NaN  Conservative   \n",
       "1996                                                NaN  Conservative   \n",
       "1997                                                NaN  Conservative   \n",
       "1998                                                NaN  Conservative   \n",
       "1999                                                NaN  Conservative   \n",
       "\n",
       "      created_utc  \n",
       "0      1636581069  \n",
       "1      1636577816  \n",
       "2      1636577051  \n",
       "3      1636571593  \n",
       "4      1636568352  \n",
       "...           ...  \n",
       "1995   1636415533  \n",
       "1996   1636415473  \n",
       "1997   1636415339  \n",
       "1998   1636415328  \n",
       "1999   1636415188  \n",
       "\n",
       "[2000 rows x 4 columns]"
      ]
     },
     "execution_count": 3,
     "metadata": {},
     "output_type": "execute_result"
    }
   ],
   "source": [
    "df[['title', 'selftext', 'subreddit', 'created_utc']]"
   ]
  },
  {
   "cell_type": "code",
   "execution_count": 4,
   "id": "22f32198",
   "metadata": {},
   "outputs": [
    {
     "data": {
      "text/plain": [
       "1560"
      ]
     },
     "execution_count": 4,
     "metadata": {},
     "output_type": "execute_result"
    }
   ],
   "source": [
    "df['selftext'].isna().sum()"
   ]
  },
  {
   "cell_type": "code",
   "execution_count": 92,
   "id": "4c936832",
   "metadata": {},
   "outputs": [],
   "source": [
    "df['selftext'] = df['selftext'].fillna('n/a')"
   ]
  },
  {
   "cell_type": "code",
   "execution_count": 93,
   "id": "a9dac855",
   "metadata": {},
   "outputs": [
    {
     "data": {
      "text/plain": [
       "0"
      ]
     },
     "execution_count": 93,
     "metadata": {},
     "output_type": "execute_result"
    }
   ],
   "source": [
    "df.duplicated(subset=None, keep='first').sum()"
   ]
  },
  {
   "cell_type": "code",
   "execution_count": 94,
   "id": "0452adff",
   "metadata": {},
   "outputs": [],
   "source": [
    "df['title_and_st'] = df['title'] + df['selftext']"
   ]
  },
  {
   "cell_type": "code",
   "execution_count": 6,
   "id": "f8819669",
   "metadata": {},
   "outputs": [],
   "source": [
    "# Making the Liberal posts be postive and Conservative negative (showing my political bias here haha)\n",
    "df['subreddit'] = df['subreddit'].map({'Liberal':1, \"Conservative\":0})"
   ]
  },
  {
   "cell_type": "code",
   "execution_count": 95,
   "id": "d803cb90",
   "metadata": {},
   "outputs": [],
   "source": [
    "X = df['title_and_st']\n",
    "y = df['subreddit']"
   ]
  },
  {
   "cell_type": "code",
   "execution_count": 96,
   "id": "cfe34e94",
   "metadata": {},
   "outputs": [
    {
     "data": {
      "text/plain": [
       "0    0.5\n",
       "1    0.5\n",
       "Name: subreddit, dtype: float64"
      ]
     },
     "execution_count": 96,
     "metadata": {},
     "output_type": "execute_result"
    }
   ],
   "source": [
    "y.value_counts(normalize=True)"
   ]
  },
  {
   "cell_type": "code",
   "execution_count": 97,
   "id": "85a1a844",
   "metadata": {},
   "outputs": [],
   "source": [
    "X_train, X_test, y_train, y_test = train_test_split(X, y, random_state=42)"
   ]
  },
  {
   "cell_type": "code",
   "execution_count": 154,
   "id": "58a88588",
   "metadata": {},
   "outputs": [],
   "source": [
    "pipe = Pipeline([\n",
    "    ('cvec', CountVectorizer()),\n",
    "    ('model', LogisticRegression())]\n",
    ")"
   ]
  },
  {
   "cell_type": "code",
   "execution_count": 155,
   "id": "20c0eb21",
   "metadata": {},
   "outputs": [
    {
     "name": "stdout",
     "output_type": "stream",
     "text": [
      "0.7313333333333334\n"
     ]
    },
    {
     "data": {
      "text/plain": [
       "{'cvec__stop_words': 'english'}"
      ]
     },
     "execution_count": 155,
     "metadata": {},
     "output_type": "execute_result"
    }
   ],
   "source": [
    "params = {\n",
    "    'cvec__stop_words':[None, 'english'],\n",
    "#     'cvec__ngram_range':[(1,1), (1,2)],\n",
    "#     'cvec__min_df': [1, 2, 3],\n",
    "#     'cvec__max_df':[.1, .15, .2, .25, .3],\n",
    "#     'cvec__max_features': [3500, 4000, 4500, 5000, 5500],\n",
    "#     'cvec__binary': [True, False]\n",
    "}\n",
    "\n",
    "# params = {\n",
    "#     'cvec__stopwords':[None, 'english'],\n",
    "#     'cvec__ngram_range':[(1,1), (1,2)],\n",
    "# #     'cvec__min_df': [1,3,5],\n",
    "# #     'cvec__max_df':[.6, .65, .7, .75]\n",
    "# #     'cvec__max_features': [None, 1000, 1500, 2000, 2500, 3000],\n",
    "# #     'cvec__binary': [True, False]\n",
    "# }\n",
    "gs = GridSearchCV(pipe, param_grid=params)\n",
    "gs.fit(X_train, y_train)\n",
    "print(gs.best_score_)\n",
    "gs.best_params_"
   ]
  },
  {
   "cell_type": "code",
   "execution_count": 156,
   "id": "519af747",
   "metadata": {},
   "outputs": [
    {
     "data": {
      "image/png": "[encoded data removed]",
      "text/plain": [
       "<Figure size 432x288 with 2 Axes>"
      ]
     },
     "metadata": {
      "needs_background": "light"
     },
     "output_type": "display_data"
    }
   ],
   "source": [
    "plot_confusion_matrix(gs, X_test, y_test, display_labels=['Conservtive', 'Liberal']);"
   ]
  },
  {
   "cell_type": "code",
   "execution_count": 157,
   "id": "fb90e8b3",
   "metadata": {},
   "outputs": [],
   "source": [
    "preds = gs.predict(X_test)"
   ]
  },
  {
   "cell_type": "code",
   "execution_count": 158,
   "id": "61f0bbf4",
   "metadata": {},
   "outputs": [
    {
     "data": {
      "text/plain": [
       "938    Insurance companies are now asking COVID-19 pa...\n",
       "584    Mind Debris Magazine - Residential Schools: Ca...\n",
       "746    ~Paralympics the relationship we have to the m...\n",
       "674                                  Hands-Off Patroln/a\n",
       "792    Discord for leaning left in USIs there a disco...\n",
       "                             ...                        \n",
       "310    Joe Biden's Handlers Deliberately Cut His Live...\n",
       "926       Liberalism, a beautiful concise explanationn/a\n",
       "532    Cyber Ninjas report - early look here - confir...\n",
       "765    Rep. Jim Jordan (R-OH) claims U.S. tax dollars...\n",
       "408    Please consider reading and signing my petitio...\n",
       "Name: title_and_st, Length: 74, dtype: object"
      ]
     },
     "execution_count": 158,
     "metadata": {},
     "output_type": "execute_result"
    }
   ],
   "source": [
    "X_test[(y_test != preds) & (preds == 0)]"
   ]
  },
  {
   "cell_type": "code",
   "execution_count": null,
   "id": "a9c0785f",
   "metadata": {},
   "outputs": [],
   "source": []
  }
 ],
 "metadata": {
  "kernelspec": {
   "display_name": "Python 3",
   "language": "python",
   "name": "python3"
  },
  "language_info": {
   "codemirror_mode": {
    "name": "ipython",
    "version": 3
   },
   "file_extension": ".py",
   "mimetype": "text/x-python",
   "name": "python",
   "nbconvert_exporter": "python",
   "pygments_lexer": "ipython3",
   "version": "3.8.8"
  }
 },
 "nbformat": 4,
 "nbformat_minor": 5
}
