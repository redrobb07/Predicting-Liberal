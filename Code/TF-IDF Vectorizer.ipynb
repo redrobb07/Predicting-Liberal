{
 "cells": [
  {
   "cell_type": "code",
   "execution_count": 1,
   "id": "82ea79ec",
   "metadata": {},
   "outputs": [],
   "source": [
    "import pandas as pd\n",
    "import matplotlib.pyplot as plt\n",
    "import seaborn as sns\n",
    "from sklearn.linear_model import LogisticRegression\n",
    "from sklearn.pipeline import Pipeline\n",
    "from sklearn.model_selection import train_test_split, GridSearchCV\n",
    "from sklearn.metrics import plot_confusion_matrix\n",
    "from sklearn.feature_extraction.text import TfidfVectorizer"
   ]
  },
  {
   "cell_type": "code",
   "execution_count": 5,
   "id": "612b2b32",
   "metadata": {},
   "outputs": [
    {
     "data": {
      "text/html": [
       "<div>\n",
       "<style scoped>\n",
       "    .dataframe tbody tr th:only-of-type {\n",
       "        vertical-align: middle;\n",
       "    }\n",
       "\n",
       "    .dataframe tbody tr th {\n",
       "        vertical-align: top;\n",
       "    }\n",
       "\n",
       "    .dataframe thead th {\n",
       "        text-align: right;\n",
       "    }\n",
       "</style>\n",
       "<table border=\"1\" class=\"dataframe\">\n",
       "  <thead>\n",
       "    <tr style=\"text-align: right;\">\n",
       "      <th></th>\n",
       "      <th>all_awardings</th>\n",
       "      <th>allow_live_comments</th>\n",
       "      <th>author</th>\n",
       "      <th>author_flair_css_class</th>\n",
       "      <th>author_flair_richtext</th>\n",
       "      <th>author_flair_text</th>\n",
       "      <th>author_flair_type</th>\n",
       "      <th>author_fullname</th>\n",
       "      <th>author_is_blocked</th>\n",
       "      <th>author_patreon_flair</th>\n",
       "      <th>...</th>\n",
       "      <th>crosspost_parent</th>\n",
       "      <th>crosspost_parent_list</th>\n",
       "      <th>edited</th>\n",
       "      <th>poll_data</th>\n",
       "      <th>suggested_sort</th>\n",
       "      <th>is_gallery</th>\n",
       "      <th>author_flair_template_id</th>\n",
       "      <th>link_flair_css_class</th>\n",
       "      <th>gallery_data</th>\n",
       "      <th>media_metadata</th>\n",
       "    </tr>\n",
       "  </thead>\n",
       "  <tbody>\n",
       "    <tr>\n",
       "      <th>0</th>\n",
       "      <td>[]</td>\n",
       "      <td>False</td>\n",
       "      <td>amnesiac7</td>\n",
       "      <td>NaN</td>\n",
       "      <td>[]</td>\n",
       "      <td>NaN</td>\n",
       "      <td>text</td>\n",
       "      <td>t2_7hi8y</td>\n",
       "      <td>False</td>\n",
       "      <td>False</td>\n",
       "      <td>...</td>\n",
       "      <td>NaN</td>\n",
       "      <td>NaN</td>\n",
       "      <td>NaN</td>\n",
       "      <td>NaN</td>\n",
       "      <td>NaN</td>\n",
       "      <td>NaN</td>\n",
       "      <td>NaN</td>\n",
       "      <td>NaN</td>\n",
       "      <td>NaN</td>\n",
       "      <td>NaN</td>\n",
       "    </tr>\n",
       "    <tr>\n",
       "      <th>1</th>\n",
       "      <td>[]</td>\n",
       "      <td>False</td>\n",
       "      <td>Bonsai37</td>\n",
       "      <td>NaN</td>\n",
       "      <td>[]</td>\n",
       "      <td>NaN</td>\n",
       "      <td>text</td>\n",
       "      <td>t2_8iqzl6l8</td>\n",
       "      <td>False</td>\n",
       "      <td>False</td>\n",
       "      <td>...</td>\n",
       "      <td>NaN</td>\n",
       "      <td>NaN</td>\n",
       "      <td>NaN</td>\n",
       "      <td>NaN</td>\n",
       "      <td>NaN</td>\n",
       "      <td>NaN</td>\n",
       "      <td>NaN</td>\n",
       "      <td>NaN</td>\n",
       "      <td>NaN</td>\n",
       "      <td>NaN</td>\n",
       "    </tr>\n",
       "    <tr>\n",
       "      <th>2</th>\n",
       "      <td>[]</td>\n",
       "      <td>False</td>\n",
       "      <td>progress18</td>\n",
       "      <td>NaN</td>\n",
       "      <td>[]</td>\n",
       "      <td>NaN</td>\n",
       "      <td>text</td>\n",
       "      <td>t2_nkk56</td>\n",
       "      <td>False</td>\n",
       "      <td>False</td>\n",
       "      <td>...</td>\n",
       "      <td>NaN</td>\n",
       "      <td>NaN</td>\n",
       "      <td>NaN</td>\n",
       "      <td>NaN</td>\n",
       "      <td>NaN</td>\n",
       "      <td>NaN</td>\n",
       "      <td>NaN</td>\n",
       "      <td>NaN</td>\n",
       "      <td>NaN</td>\n",
       "      <td>NaN</td>\n",
       "    </tr>\n",
       "    <tr>\n",
       "      <th>3</th>\n",
       "      <td>[]</td>\n",
       "      <td>False</td>\n",
       "      <td>Maxcactus</td>\n",
       "      <td>NaN</td>\n",
       "      <td>[]</td>\n",
       "      <td>NaN</td>\n",
       "      <td>text</td>\n",
       "      <td>t2_1vwn</td>\n",
       "      <td>False</td>\n",
       "      <td>False</td>\n",
       "      <td>...</td>\n",
       "      <td>NaN</td>\n",
       "      <td>NaN</td>\n",
       "      <td>NaN</td>\n",
       "      <td>NaN</td>\n",
       "      <td>NaN</td>\n",
       "      <td>NaN</td>\n",
       "      <td>NaN</td>\n",
       "      <td>NaN</td>\n",
       "      <td>NaN</td>\n",
       "      <td>NaN</td>\n",
       "    </tr>\n",
       "    <tr>\n",
       "      <th>4</th>\n",
       "      <td>[]</td>\n",
       "      <td>False</td>\n",
       "      <td>SLeeCunningham</td>\n",
       "      <td>NaN</td>\n",
       "      <td>[]</td>\n",
       "      <td>NaN</td>\n",
       "      <td>text</td>\n",
       "      <td>t2_6b4upjaa</td>\n",
       "      <td>False</td>\n",
       "      <td>False</td>\n",
       "      <td>...</td>\n",
       "      <td>NaN</td>\n",
       "      <td>NaN</td>\n",
       "      <td>NaN</td>\n",
       "      <td>NaN</td>\n",
       "      <td>NaN</td>\n",
       "      <td>NaN</td>\n",
       "      <td>NaN</td>\n",
       "      <td>NaN</td>\n",
       "      <td>NaN</td>\n",
       "      <td>NaN</td>\n",
       "    </tr>\n",
       "  </tbody>\n",
       "</table>\n",
       "<p>5 rows × 85 columns</p>\n",
       "</div>"
      ],
      "text/plain": [
       "  all_awardings  allow_live_comments          author author_flair_css_class  \\\n",
       "0            []                False       amnesiac7                    NaN   \n",
       "1            []                False        Bonsai37                    NaN   \n",
       "2            []                False      progress18                    NaN   \n",
       "3            []                False       Maxcactus                    NaN   \n",
       "4            []                False  SLeeCunningham                    NaN   \n",
       "\n",
       "  author_flair_richtext author_flair_text author_flair_type author_fullname  \\\n",
       "0                    []               NaN              text        t2_7hi8y   \n",
       "1                    []               NaN              text     t2_8iqzl6l8   \n",
       "2                    []               NaN              text        t2_nkk56   \n",
       "3                    []               NaN              text         t2_1vwn   \n",
       "4                    []               NaN              text     t2_6b4upjaa   \n",
       "\n",
       "  author_is_blocked author_patreon_flair  ... crosspost_parent  \\\n",
       "0             False                False  ...              NaN   \n",
       "1             False                False  ...              NaN   \n",
       "2             False                False  ...              NaN   \n",
       "3             False                False  ...              NaN   \n",
       "4             False                False  ...              NaN   \n",
       "\n",
       "  crosspost_parent_list  edited  poll_data  suggested_sort is_gallery  \\\n",
       "0                   NaN     NaN        NaN             NaN        NaN   \n",
       "1                   NaN     NaN        NaN             NaN        NaN   \n",
       "2                   NaN     NaN        NaN             NaN        NaN   \n",
       "3                   NaN     NaN        NaN             NaN        NaN   \n",
       "4                   NaN     NaN        NaN             NaN        NaN   \n",
       "\n",
       "  author_flair_template_id link_flair_css_class gallery_data media_metadata  \n",
       "0                      NaN                  NaN          NaN            NaN  \n",
       "1                      NaN                  NaN          NaN            NaN  \n",
       "2                      NaN                  NaN          NaN            NaN  \n",
       "3                      NaN                  NaN          NaN            NaN  \n",
       "4                      NaN                  NaN          NaN            NaN  \n",
       "\n",
       "[5 rows x 85 columns]"
      ]
     },
     "execution_count": 5,
     "metadata": {},
     "output_type": "execute_result"
    }
   ],
   "source": [
    "df = pd.read_csv('Data/all_20000_posts.csv', low_memory=False)\n",
    "df.drop(columns=('Unnamed: 0'), inplace=True)\n",
    "df.head()"
   ]
  },
  {
   "cell_type": "code",
   "execution_count": 6,
   "id": "b9663dd5",
   "metadata": {},
   "outputs": [
    {
     "data": {
      "text/html": [
       "<div>\n",
       "<style scoped>\n",
       "    .dataframe tbody tr th:only-of-type {\n",
       "        vertical-align: middle;\n",
       "    }\n",
       "\n",
       "    .dataframe tbody tr th {\n",
       "        vertical-align: top;\n",
       "    }\n",
       "\n",
       "    .dataframe thead th {\n",
       "        text-align: right;\n",
       "    }\n",
       "</style>\n",
       "<table border=\"1\" class=\"dataframe\">\n",
       "  <thead>\n",
       "    <tr style=\"text-align: right;\">\n",
       "      <th></th>\n",
       "      <th>title</th>\n",
       "      <th>selftext</th>\n",
       "      <th>subreddit</th>\n",
       "      <th>created_utc</th>\n",
       "    </tr>\n",
       "  </thead>\n",
       "  <tbody>\n",
       "    <tr>\n",
       "      <th>0</th>\n",
       "      <td>Democrats Finally Unite—to Mock Kevin McCarthy...</td>\n",
       "      <td>NaN</td>\n",
       "      <td>Liberal</td>\n",
       "      <td>1637336367</td>\n",
       "    </tr>\n",
       "    <tr>\n",
       "      <th>1</th>\n",
       "      <td>What is critical race theory?</td>\n",
       "      <td>[removed]</td>\n",
       "      <td>Liberal</td>\n",
       "      <td>1637332712</td>\n",
       "    </tr>\n",
       "    <tr>\n",
       "      <th>2</th>\n",
       "      <td>US Postal Service board chair expected to be r...</td>\n",
       "      <td>NaN</td>\n",
       "      <td>Liberal</td>\n",
       "      <td>1637330958</td>\n",
       "    </tr>\n",
       "    <tr>\n",
       "      <th>3</th>\n",
       "      <td>Analysis | The ugly Paul Gosar debate</td>\n",
       "      <td>NaN</td>\n",
       "      <td>Liberal</td>\n",
       "      <td>1637322475</td>\n",
       "    </tr>\n",
       "    <tr>\n",
       "      <th>4</th>\n",
       "      <td>Could It Be That Repeated Exposure To Hand San...</td>\n",
       "      <td>NaN</td>\n",
       "      <td>Liberal</td>\n",
       "      <td>1637297933</td>\n",
       "    </tr>\n",
       "    <tr>\n",
       "      <th>...</th>\n",
       "      <td>...</td>\n",
       "      <td>...</td>\n",
       "      <td>...</td>\n",
       "      <td>...</td>\n",
       "    </tr>\n",
       "    <tr>\n",
       "      <th>19992</th>\n",
       "      <td>Journalist Butchery of School Board Protests U...</td>\n",
       "      <td>NaN</td>\n",
       "      <td>Conservative</td>\n",
       "      <td>1635546280</td>\n",
       "    </tr>\n",
       "    <tr>\n",
       "      <th>19993</th>\n",
       "      <td>Biden tours Rome with 85-vehicle motorcade ahe...</td>\n",
       "      <td>NaN</td>\n",
       "      <td>Conservative</td>\n",
       "      <td>1635546050</td>\n",
       "    </tr>\n",
       "    <tr>\n",
       "      <th>19994</th>\n",
       "      <td>Photos: AT&amp;amp;T Board Of Directors Which Is P...</td>\n",
       "      <td>NaN</td>\n",
       "      <td>Conservative</td>\n",
       "      <td>1635545972</td>\n",
       "    </tr>\n",
       "    <tr>\n",
       "      <th>19995</th>\n",
       "      <td>Think this is the first time Democrats faked a...</td>\n",
       "      <td>NaN</td>\n",
       "      <td>Conservative</td>\n",
       "      <td>1635545803</td>\n",
       "    </tr>\n",
       "    <tr>\n",
       "      <th>19996</th>\n",
       "      <td>My first ever comment in r/whitepeopletwitter ...</td>\n",
       "      <td>NaN</td>\n",
       "      <td>Conservative</td>\n",
       "      <td>1635545703</td>\n",
       "    </tr>\n",
       "  </tbody>\n",
       "</table>\n",
       "<p>19997 rows × 4 columns</p>\n",
       "</div>"
      ],
      "text/plain": [
       "                                                   title   selftext  \\\n",
       "0      Democrats Finally Unite—to Mock Kevin McCarthy...        NaN   \n",
       "1                          What is critical race theory?  [removed]   \n",
       "2      US Postal Service board chair expected to be r...        NaN   \n",
       "3                  Analysis | The ugly Paul Gosar debate        NaN   \n",
       "4      Could It Be That Repeated Exposure To Hand San...        NaN   \n",
       "...                                                  ...        ...   \n",
       "19992  Journalist Butchery of School Board Protests U...        NaN   \n",
       "19993  Biden tours Rome with 85-vehicle motorcade ahe...        NaN   \n",
       "19994  Photos: AT&amp;T Board Of Directors Which Is P...        NaN   \n",
       "19995  Think this is the first time Democrats faked a...        NaN   \n",
       "19996  My first ever comment in r/whitepeopletwitter ...        NaN   \n",
       "\n",
       "          subreddit  created_utc  \n",
       "0           Liberal   1637336367  \n",
       "1           Liberal   1637332712  \n",
       "2           Liberal   1637330958  \n",
       "3           Liberal   1637322475  \n",
       "4           Liberal   1637297933  \n",
       "...             ...          ...  \n",
       "19992  Conservative   1635546280  \n",
       "19993  Conservative   1635546050  \n",
       "19994  Conservative   1635545972  \n",
       "19995  Conservative   1635545803  \n",
       "19996  Conservative   1635545703  \n",
       "\n",
       "[19997 rows x 4 columns]"
      ]
     },
     "execution_count": 6,
     "metadata": {},
     "output_type": "execute_result"
    }
   ],
   "source": [
    "df[['title', 'selftext', 'subreddit', 'created_utc']]"
   ]
  },
  {
   "cell_type": "code",
   "execution_count": 7,
   "id": "d9a1768b",
   "metadata": {},
   "outputs": [
    {
     "data": {
      "text/plain": [
       "15196"
      ]
     },
     "execution_count": 7,
     "metadata": {},
     "output_type": "execute_result"
    }
   ],
   "source": [
    "df['selftext'].isna().sum()"
   ]
  },
  {
   "cell_type": "code",
   "execution_count": 8,
   "id": "10a220ba",
   "metadata": {},
   "outputs": [],
   "source": [
    "df['selftext'] = df['selftext'].fillna('')\n"
   ]
  },
  {
   "cell_type": "code",
   "execution_count": 9,
   "id": "8bf5ed1a",
   "metadata": {},
   "outputs": [],
   "source": [
    "df['title_and_st'] = df['title'] + df['selftext']"
   ]
  },
  {
   "cell_type": "code",
   "execution_count": 10,
   "id": "5af78a92",
   "metadata": {},
   "outputs": [
    {
     "data": {
      "text/plain": [
       "0"
      ]
     },
     "execution_count": 10,
     "metadata": {},
     "output_type": "execute_result"
    }
   ],
   "source": [
    "df.duplicated(subset=None, keep='first').sum()"
   ]
  },
  {
   "cell_type": "code",
   "execution_count": 11,
   "id": "db2278ba",
   "metadata": {},
   "outputs": [],
   "source": [
    "# Making the Liberal posts be postive and Conservative negative (showing my political bias here haha)\n",
    "\n",
    "df['subreddit'] = df['subreddit'].map({'Liberal':1, \"Conservative\":0})"
   ]
  },
  {
   "cell_type": "code",
   "execution_count": 12,
   "id": "ec74b224",
   "metadata": {},
   "outputs": [],
   "source": [
    "X = df['title_and_st']\n",
    "y = df['subreddit']"
   ]
  },
  {
   "cell_type": "code",
   "execution_count": 13,
   "id": "14ee5621",
   "metadata": {},
   "outputs": [
    {
     "data": {
      "text/plain": [
       "1    0.500025\n",
       "0    0.499975\n",
       "Name: subreddit, dtype: float64"
      ]
     },
     "execution_count": 13,
     "metadata": {},
     "output_type": "execute_result"
    }
   ],
   "source": [
    "y.value_counts(normalize=True)"
   ]
  },
  {
   "cell_type": "code",
   "execution_count": 14,
   "id": "12182b33",
   "metadata": {},
   "outputs": [],
   "source": [
    "X_train, X_test, y_train, y_test = train_test_split(X, y, random_state=42)"
   ]
  },
  {
   "cell_type": "code",
   "execution_count": 16,
   "id": "03bcb311",
   "metadata": {},
   "outputs": [],
   "source": [
    "pipe = Pipeline([\n",
    "    ('tvec', TfidfVectorizer()),\n",
    "    ('model', LogisticRegression())]\n",
    ")"
   ]
  },
  {
   "cell_type": "code",
   "execution_count": 17,
   "id": "cd553f29",
   "metadata": {},
   "outputs": [
    {
     "name": "stdout",
     "output_type": "stream",
     "text": [
      "0.7585511170390131\n"
     ]
    },
    {
     "data": {
      "text/plain": [
       "{'model__max_iter': 1000,\n",
       " 'tvec__binary': True,\n",
       " 'tvec__max_df': 0.2,\n",
       " 'tvec__max_features': 4000,\n",
       " 'tvec__min_df': 1,\n",
       " 'tvec__ngram_range': (1, 2),\n",
       " 'tvec__stop_words': 'english'}"
      ]
     },
     "execution_count": 17,
     "metadata": {},
     "output_type": "execute_result"
    }
   ],
   "source": [
    "params = {\n",
    "    'tvec__stop_words':['english'],\n",
    "    'tvec__ngram_range':[(1,2)],\n",
    "    'tvec__min_df': [1],\n",
    "    'tvec__max_df':[.2],\n",
    "    'tvec__max_features': [4000],\n",
    "    'tvec__binary': [True],\n",
    "    'model__max_iter':[1000, 3000, 5000]\n",
    "}\n",
    "\n",
    "gs = GridSearchCV(pipe, param_grid=params)\n",
    "gs.fit(X_train, y_train)\n",
    "print(gs.best_score_)\n",
    "gs.best_params_"
   ]
  },
  {
   "cell_type": "code",
   "execution_count": 28,
   "id": "23a72ac0",
   "metadata": {},
   "outputs": [
    {
     "data": {
      "image/png": "[encoded data removed]",
      "text/plain": [
       "<Figure size 432x288 with 2 Axes>"
      ]
     },
     "metadata": {
      "needs_background": "light"
     },
     "output_type": "display_data"
    }
   ],
   "source": [
    "plot_confusion_matrix(gs, X_test, y_test, display_labels=['Conservtive', 'Liberal'])\n",
    "plt.savefig('TF-IDF with untuned Logreg');"
   ]
  },
  {
   "cell_type": "code",
   "execution_count": 20,
   "id": "2a2b3a4d",
   "metadata": {},
   "outputs": [],
   "source": [
    "import sklearn.metrics as metrics"
   ]
  },
  {
   "cell_type": "code",
   "execution_count": 21,
   "id": "6eae624f",
   "metadata": {},
   "outputs": [],
   "source": [
    "preds = gs.predict(X_test)\n",
    "tn, fp, fn, tp = metrics.confusion_matrix(y_test, preds).flatten()"
   ]
  },
  {
   "cell_type": "markdown",
   "id": "d20ff1d6",
   "metadata": {},
   "source": [
    "### Sensitvity (recall)"
   ]
  },
  {
   "cell_type": "code",
   "execution_count": 22,
   "id": "4342474b",
   "metadata": {},
   "outputs": [
    {
     "data": {
      "text/plain": [
       "0.7706237424547284"
      ]
     },
     "execution_count": 22,
     "metadata": {},
     "output_type": "execute_result"
    }
   ],
   "source": [
    "recall = metrics.recall_score(y_test, preds)\n",
    "recall"
   ]
  },
  {
   "cell_type": "markdown",
   "id": "78836773",
   "metadata": {},
   "source": [
    "### Precision"
   ]
  },
  {
   "cell_type": "code",
   "execution_count": 23,
   "id": "5603b00d",
   "metadata": {},
   "outputs": [
    {
     "data": {
      "text/plain": [
       "0.7687675632276194"
      ]
     },
     "execution_count": 23,
     "metadata": {},
     "output_type": "execute_result"
    }
   ],
   "source": [
    "precision = metrics.precision_score(y_test, preds)\n",
    "precision"
   ]
  },
  {
   "cell_type": "markdown",
   "id": "5f7187b4",
   "metadata": {},
   "source": [
    "### What posts were predicted to be in the Conserative(0) subreddit but were actually in the Liberal(1) subreddit?"
   ]
  },
  {
   "cell_type": "code",
   "execution_count": 26,
   "id": "a9d37e11",
   "metadata": {},
   "outputs": [],
   "source": [
    "preds = gs.predict(X_test)"
   ]
  },
  {
   "cell_type": "code",
   "execution_count": 27,
   "id": "47e7b61d",
   "metadata": {},
   "outputs": [
    {
     "data": {
      "text/plain": [
       "1087             Snowflakes is a terrible song (for 2021)\n",
       "4936    Biden Faces a Minefield in New Diplomacy with ...\n",
       "1202    Conservatives Are Asking You To Disbelieve You...\n",
       "351             To the West Virginians of Reddit[removed]\n",
       "5833    Anyone else love old music? As they say, somet...\n",
       "                              ...                        \n",
       "8164    Kamala Harris is Joe Biden's running mate: Liv...\n",
       "5826                         What happened to us[removed]\n",
       "3761              Why does this not surprise me?[removed]\n",
       "1266    Great video explaining Totalitarianism. Scary ...\n",
       "5861    Buy Zopiclone 7.5 mg Next Day Delivery UK | Di...\n",
       "Name: title_and_st, Length: 570, dtype: object"
      ]
     },
     "execution_count": 27,
     "metadata": {},
     "output_type": "execute_result"
    }
   ],
   "source": [
    "X_test[(y_test != preds) & (preds == 0)]"
   ]
  },
  {
   "cell_type": "code",
   "execution_count": null,
   "id": "c7384b5d",
   "metadata": {},
   "outputs": [],
   "source": []
  }
 ],
 "metadata": {
  "kernelspec": {
   "display_name": "Python 3",
   "language": "python",
   "name": "python3"
  },
  "language_info": {
   "codemirror_mode": {
    "name": "ipython",
    "version": 3
   },
   "file_extension": ".py",
   "mimetype": "text/x-python",
   "name": "python",
   "nbconvert_exporter": "python",
   "pygments_lexer": "ipython3",
   "version": "3.8.8"
  }
 },
 "nbformat": 4,
 "nbformat_minor": 5
}
