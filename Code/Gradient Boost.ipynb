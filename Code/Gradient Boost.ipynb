{
 "cells": [
  {
   "cell_type": "code",
   "execution_count": 2,
   "id": "ac7f4660",
   "metadata": {},
   "outputs": [],
   "source": [
    "import pandas as pd\n",
    "import matplotlib.pyplot as plt\n",
    "import seaborn as sns\n",
    "from sklearn.pipeline import Pipeline\n",
    "from sklearn.feature_extraction.text import TfidfVectorizer, CountVectorizer\n",
    "from sklearn.ensemble import GradientBoostingClassifier, AdaBoostClassifier, VotingClassifier, RandomForestClassifier\n",
    "from sklearn.model_selection import train_test_split, GridSearchCV, cross_val_score\n",
    "from sklearn.metrics import plot_confusion_matrix\n",
    "from sklearn.tree import DecisionTreeClassifier\n",
    "from sklearn.linear_model import LogisticRegression\n"
   ]
  },
  {
   "cell_type": "code",
   "execution_count": 4,
   "id": "b71c1ae0",
   "metadata": {},
   "outputs": [
    {
     "data": {
      "text/html": [
       "<div>\n",
       "<style scoped>\n",
       "    .dataframe tbody tr th:only-of-type {\n",
       "        vertical-align: middle;\n",
       "    }\n",
       "\n",
       "    .dataframe tbody tr th {\n",
       "        vertical-align: top;\n",
       "    }\n",
       "\n",
       "    .dataframe thead th {\n",
       "        text-align: right;\n",
       "    }\n",
       "</style>\n",
       "<table border=\"1\" class=\"dataframe\">\n",
       "  <thead>\n",
       "    <tr style=\"text-align: right;\">\n",
       "      <th></th>\n",
       "      <th>all_awardings</th>\n",
       "      <th>allow_live_comments</th>\n",
       "      <th>author</th>\n",
       "      <th>author_flair_css_class</th>\n",
       "      <th>author_flair_richtext</th>\n",
       "      <th>author_flair_text</th>\n",
       "      <th>author_flair_type</th>\n",
       "      <th>author_fullname</th>\n",
       "      <th>author_is_blocked</th>\n",
       "      <th>author_patreon_flair</th>\n",
       "      <th>...</th>\n",
       "      <th>crosspost_parent</th>\n",
       "      <th>crosspost_parent_list</th>\n",
       "      <th>edited</th>\n",
       "      <th>poll_data</th>\n",
       "      <th>suggested_sort</th>\n",
       "      <th>is_gallery</th>\n",
       "      <th>author_flair_template_id</th>\n",
       "      <th>link_flair_css_class</th>\n",
       "      <th>gallery_data</th>\n",
       "      <th>media_metadata</th>\n",
       "    </tr>\n",
       "  </thead>\n",
       "  <tbody>\n",
       "    <tr>\n",
       "      <th>0</th>\n",
       "      <td>[]</td>\n",
       "      <td>False</td>\n",
       "      <td>amnesiac7</td>\n",
       "      <td>NaN</td>\n",
       "      <td>[]</td>\n",
       "      <td>NaN</td>\n",
       "      <td>text</td>\n",
       "      <td>t2_7hi8y</td>\n",
       "      <td>False</td>\n",
       "      <td>False</td>\n",
       "      <td>...</td>\n",
       "      <td>NaN</td>\n",
       "      <td>NaN</td>\n",
       "      <td>NaN</td>\n",
       "      <td>NaN</td>\n",
       "      <td>NaN</td>\n",
       "      <td>NaN</td>\n",
       "      <td>NaN</td>\n",
       "      <td>NaN</td>\n",
       "      <td>NaN</td>\n",
       "      <td>NaN</td>\n",
       "    </tr>\n",
       "    <tr>\n",
       "      <th>1</th>\n",
       "      <td>[]</td>\n",
       "      <td>False</td>\n",
       "      <td>Bonsai37</td>\n",
       "      <td>NaN</td>\n",
       "      <td>[]</td>\n",
       "      <td>NaN</td>\n",
       "      <td>text</td>\n",
       "      <td>t2_8iqzl6l8</td>\n",
       "      <td>False</td>\n",
       "      <td>False</td>\n",
       "      <td>...</td>\n",
       "      <td>NaN</td>\n",
       "      <td>NaN</td>\n",
       "      <td>NaN</td>\n",
       "      <td>NaN</td>\n",
       "      <td>NaN</td>\n",
       "      <td>NaN</td>\n",
       "      <td>NaN</td>\n",
       "      <td>NaN</td>\n",
       "      <td>NaN</td>\n",
       "      <td>NaN</td>\n",
       "    </tr>\n",
       "    <tr>\n",
       "      <th>2</th>\n",
       "      <td>[]</td>\n",
       "      <td>False</td>\n",
       "      <td>progress18</td>\n",
       "      <td>NaN</td>\n",
       "      <td>[]</td>\n",
       "      <td>NaN</td>\n",
       "      <td>text</td>\n",
       "      <td>t2_nkk56</td>\n",
       "      <td>False</td>\n",
       "      <td>False</td>\n",
       "      <td>...</td>\n",
       "      <td>NaN</td>\n",
       "      <td>NaN</td>\n",
       "      <td>NaN</td>\n",
       "      <td>NaN</td>\n",
       "      <td>NaN</td>\n",
       "      <td>NaN</td>\n",
       "      <td>NaN</td>\n",
       "      <td>NaN</td>\n",
       "      <td>NaN</td>\n",
       "      <td>NaN</td>\n",
       "    </tr>\n",
       "    <tr>\n",
       "      <th>3</th>\n",
       "      <td>[]</td>\n",
       "      <td>False</td>\n",
       "      <td>Maxcactus</td>\n",
       "      <td>NaN</td>\n",
       "      <td>[]</td>\n",
       "      <td>NaN</td>\n",
       "      <td>text</td>\n",
       "      <td>t2_1vwn</td>\n",
       "      <td>False</td>\n",
       "      <td>False</td>\n",
       "      <td>...</td>\n",
       "      <td>NaN</td>\n",
       "      <td>NaN</td>\n",
       "      <td>NaN</td>\n",
       "      <td>NaN</td>\n",
       "      <td>NaN</td>\n",
       "      <td>NaN</td>\n",
       "      <td>NaN</td>\n",
       "      <td>NaN</td>\n",
       "      <td>NaN</td>\n",
       "      <td>NaN</td>\n",
       "    </tr>\n",
       "    <tr>\n",
       "      <th>4</th>\n",
       "      <td>[]</td>\n",
       "      <td>False</td>\n",
       "      <td>SLeeCunningham</td>\n",
       "      <td>NaN</td>\n",
       "      <td>[]</td>\n",
       "      <td>NaN</td>\n",
       "      <td>text</td>\n",
       "      <td>t2_6b4upjaa</td>\n",
       "      <td>False</td>\n",
       "      <td>False</td>\n",
       "      <td>...</td>\n",
       "      <td>NaN</td>\n",
       "      <td>NaN</td>\n",
       "      <td>NaN</td>\n",
       "      <td>NaN</td>\n",
       "      <td>NaN</td>\n",
       "      <td>NaN</td>\n",
       "      <td>NaN</td>\n",
       "      <td>NaN</td>\n",
       "      <td>NaN</td>\n",
       "      <td>NaN</td>\n",
       "    </tr>\n",
       "  </tbody>\n",
       "</table>\n",
       "<p>5 rows × 85 columns</p>\n",
       "</div>"
      ],
      "text/plain": [
       "  all_awardings  allow_live_comments          author author_flair_css_class  \\\n",
       "0            []                False       amnesiac7                    NaN   \n",
       "1            []                False        Bonsai37                    NaN   \n",
       "2            []                False      progress18                    NaN   \n",
       "3            []                False       Maxcactus                    NaN   \n",
       "4            []                False  SLeeCunningham                    NaN   \n",
       "\n",
       "  author_flair_richtext author_flair_text author_flair_type author_fullname  \\\n",
       "0                    []               NaN              text        t2_7hi8y   \n",
       "1                    []               NaN              text     t2_8iqzl6l8   \n",
       "2                    []               NaN              text        t2_nkk56   \n",
       "3                    []               NaN              text         t2_1vwn   \n",
       "4                    []               NaN              text     t2_6b4upjaa   \n",
       "\n",
       "  author_is_blocked author_patreon_flair  ... crosspost_parent  \\\n",
       "0             False                False  ...              NaN   \n",
       "1             False                False  ...              NaN   \n",
       "2             False                False  ...              NaN   \n",
       "3             False                False  ...              NaN   \n",
       "4             False                False  ...              NaN   \n",
       "\n",
       "  crosspost_parent_list  edited  poll_data  suggested_sort is_gallery  \\\n",
       "0                   NaN     NaN        NaN             NaN        NaN   \n",
       "1                   NaN     NaN        NaN             NaN        NaN   \n",
       "2                   NaN     NaN        NaN             NaN        NaN   \n",
       "3                   NaN     NaN        NaN             NaN        NaN   \n",
       "4                   NaN     NaN        NaN             NaN        NaN   \n",
       "\n",
       "  author_flair_template_id link_flair_css_class gallery_data media_metadata  \n",
       "0                      NaN                  NaN          NaN            NaN  \n",
       "1                      NaN                  NaN          NaN            NaN  \n",
       "2                      NaN                  NaN          NaN            NaN  \n",
       "3                      NaN                  NaN          NaN            NaN  \n",
       "4                      NaN                  NaN          NaN            NaN  \n",
       "\n",
       "[5 rows x 85 columns]"
      ]
     },
     "execution_count": 4,
     "metadata": {},
     "output_type": "execute_result"
    }
   ],
   "source": [
    "df = pd.read_csv('../Data/all_20000_posts.csv', low_memory=False)\n",
    "df.drop(columns=\"Unnamed: 0\", inplace=True)\n",
    "df.head()"
   ]
  },
  {
   "cell_type": "code",
   "execution_count": 5,
   "id": "67919181",
   "metadata": {},
   "outputs": [
    {
     "data": {
      "text/plain": [
       "15196"
      ]
     },
     "execution_count": 5,
     "metadata": {},
     "output_type": "execute_result"
    }
   ],
   "source": [
    "df['selftext'].isnull().sum()"
   ]
  },
  {
   "cell_type": "code",
   "execution_count": 6,
   "id": "912775dd",
   "metadata": {},
   "outputs": [],
   "source": [
    "df['selftext'] = df['selftext'].fillna('')\n"
   ]
  },
  {
   "cell_type": "code",
   "execution_count": 6,
   "id": "b3e6a774",
   "metadata": {},
   "outputs": [],
   "source": [
    "# df['selftext'].value_counts()"
   ]
  },
  {
   "cell_type": "code",
   "execution_count": 7,
   "id": "341508ac",
   "metadata": {},
   "outputs": [
    {
     "data": {
      "text/plain": [
       "4172"
      ]
     },
     "execution_count": 7,
     "metadata": {},
     "output_type": "execute_result"
    }
   ],
   "source": [
    "(df['selftext'] == '[removed]').sum()"
   ]
  },
  {
   "cell_type": "code",
   "execution_count": 8,
   "id": "b63d6703",
   "metadata": {},
   "outputs": [
    {
     "data": {
      "text/plain": [
       "0"
      ]
     },
     "execution_count": 8,
     "metadata": {},
     "output_type": "execute_result"
    }
   ],
   "source": [
    "(df['selftext'] == '[deleted]').sum()"
   ]
  },
  {
   "cell_type": "code",
   "execution_count": 9,
   "id": "08d354cc",
   "metadata": {},
   "outputs": [],
   "source": [
    "# I attempted to replace all of the removed selftexts, but it degreaded the models performance\n",
    "# df['selftext'] = (df['selftext']).replace('[removed]', '')"
   ]
  },
  {
   "cell_type": "code",
   "execution_count": 9,
   "id": "ff51c521",
   "metadata": {},
   "outputs": [],
   "source": [
    "df['title_and_st'] = df['title'] + df['selftext']"
   ]
  },
  {
   "cell_type": "code",
   "execution_count": 10,
   "id": "0eb8b4d2",
   "metadata": {},
   "outputs": [
    {
     "data": {
      "text/plain": [
       "0"
      ]
     },
     "execution_count": 10,
     "metadata": {},
     "output_type": "execute_result"
    }
   ],
   "source": [
    "df.duplicated(subset=None, keep='first').sum()"
   ]
  },
  {
   "cell_type": "code",
   "execution_count": 11,
   "id": "222337ea",
   "metadata": {},
   "outputs": [],
   "source": [
    "df['subreddit'] = df['subreddit'].map({'Liberal':1, \"Conservative\":0})"
   ]
  },
  {
   "cell_type": "code",
   "execution_count": 12,
   "id": "389da901",
   "metadata": {},
   "outputs": [],
   "source": [
    "df['post_length'] = df['title_and_st'].apply(len)"
   ]
  },
  {
   "cell_type": "code",
   "execution_count": 13,
   "id": "82a3041d",
   "metadata": {},
   "outputs": [],
   "source": [
    "df['word_count'] = [len(x.split()) for x in df['title_and_st'].tolist()]"
   ]
  },
  {
   "cell_type": "code",
   "execution_count": 14,
   "id": "b5a707d1",
   "metadata": {},
   "outputs": [
    {
     "data": {
      "text/html": [
       "<div>\n",
       "<style scoped>\n",
       "    .dataframe tbody tr th:only-of-type {\n",
       "        vertical-align: middle;\n",
       "    }\n",
       "\n",
       "    .dataframe tbody tr th {\n",
       "        vertical-align: top;\n",
       "    }\n",
       "\n",
       "    .dataframe thead th {\n",
       "        text-align: right;\n",
       "    }\n",
       "</style>\n",
       "<table border=\"1\" class=\"dataframe\">\n",
       "  <thead>\n",
       "    <tr style=\"text-align: right;\">\n",
       "      <th></th>\n",
       "      <th>allow_live_comments</th>\n",
       "      <th>can_mod_post</th>\n",
       "      <th>contest_mode</th>\n",
       "      <th>created_utc</th>\n",
       "      <th>is_crosspostable</th>\n",
       "      <th>is_meta</th>\n",
       "      <th>is_original_content</th>\n",
       "      <th>is_reddit_media_domain</th>\n",
       "      <th>is_robot_indexable</th>\n",
       "      <th>is_self</th>\n",
       "      <th>...</th>\n",
       "      <th>subreddit_subscribers</th>\n",
       "      <th>thumbnail_height</th>\n",
       "      <th>thumbnail_width</th>\n",
       "      <th>total_awards_received</th>\n",
       "      <th>upvote_ratio</th>\n",
       "      <th>wls</th>\n",
       "      <th>author_flair_background_color</th>\n",
       "      <th>edited</th>\n",
       "      <th>post_length</th>\n",
       "      <th>word_count</th>\n",
       "    </tr>\n",
       "    <tr>\n",
       "      <th>subreddit</th>\n",
       "      <th></th>\n",
       "      <th></th>\n",
       "      <th></th>\n",
       "      <th></th>\n",
       "      <th></th>\n",
       "      <th></th>\n",
       "      <th></th>\n",
       "      <th></th>\n",
       "      <th></th>\n",
       "      <th></th>\n",
       "      <th></th>\n",
       "      <th></th>\n",
       "      <th></th>\n",
       "      <th></th>\n",
       "      <th></th>\n",
       "      <th></th>\n",
       "      <th></th>\n",
       "      <th></th>\n",
       "      <th></th>\n",
       "      <th></th>\n",
       "      <th></th>\n",
       "    </tr>\n",
       "  </thead>\n",
       "  <tbody>\n",
       "    <tr>\n",
       "      <th>0</th>\n",
       "      <td>0.0004</td>\n",
       "      <td>0.0</td>\n",
       "      <td>0.0</td>\n",
       "      <td>1.636459e+09</td>\n",
       "      <td>0.528606</td>\n",
       "      <td>0.0</td>\n",
       "      <td>0.002901</td>\n",
       "      <td>0.121724</td>\n",
       "      <td>0.528606</td>\n",
       "      <td>0.113223</td>\n",
       "      <td>...</td>\n",
       "      <td>879403.498300</td>\n",
       "      <td>92.130231</td>\n",
       "      <td>139.848543</td>\n",
       "      <td>0.0006</td>\n",
       "      <td>0.995619</td>\n",
       "      <td>6.987998</td>\n",
       "      <td>NaN</td>\n",
       "      <td>1.635787e+09</td>\n",
       "      <td>80.194239</td>\n",
       "      <td>12.626125</td>\n",
       "    </tr>\n",
       "    <tr>\n",
       "      <th>1</th>\n",
       "      <td>0.0022</td>\n",
       "      <td>0.0</td>\n",
       "      <td>0.0</td>\n",
       "      <td>1.610913e+09</td>\n",
       "      <td>0.315932</td>\n",
       "      <td>0.0</td>\n",
       "      <td>0.000000</td>\n",
       "      <td>0.000000</td>\n",
       "      <td>0.315932</td>\n",
       "      <td>0.384538</td>\n",
       "      <td>...</td>\n",
       "      <td>100707.716672</td>\n",
       "      <td>88.233421</td>\n",
       "      <td>139.840770</td>\n",
       "      <td>0.0022</td>\n",
       "      <td>0.991325</td>\n",
       "      <td>6.265927</td>\n",
       "      <td>NaN</td>\n",
       "      <td>1.603427e+09</td>\n",
       "      <td>115.681768</td>\n",
       "      <td>18.427443</td>\n",
       "    </tr>\n",
       "  </tbody>\n",
       "</table>\n",
       "<p>2 rows × 34 columns</p>\n",
       "</div>"
      ],
      "text/plain": [
       "           allow_live_comments  can_mod_post  contest_mode   created_utc  \\\n",
       "subreddit                                                                  \n",
       "0                       0.0004           0.0           0.0  1.636459e+09   \n",
       "1                       0.0022           0.0           0.0  1.610913e+09   \n",
       "\n",
       "           is_crosspostable  is_meta  is_original_content  \\\n",
       "subreddit                                                   \n",
       "0                  0.528606      0.0             0.002901   \n",
       "1                  0.315932      0.0             0.000000   \n",
       "\n",
       "           is_reddit_media_domain  is_robot_indexable   is_self  ...  \\\n",
       "subreddit                                                        ...   \n",
       "0                        0.121724            0.528606  0.113223  ...   \n",
       "1                        0.000000            0.315932  0.384538  ...   \n",
       "\n",
       "           subreddit_subscribers  thumbnail_height  thumbnail_width  \\\n",
       "subreddit                                                             \n",
       "0                  879403.498300         92.130231       139.848543   \n",
       "1                  100707.716672         88.233421       139.840770   \n",
       "\n",
       "           total_awards_received  upvote_ratio       wls  \\\n",
       "subreddit                                                  \n",
       "0                         0.0006      0.995619  6.987998   \n",
       "1                         0.0022      0.991325  6.265927   \n",
       "\n",
       "           author_flair_background_color        edited  post_length  \\\n",
       "subreddit                                                             \n",
       "0                                    NaN  1.635787e+09    80.194239   \n",
       "1                                    NaN  1.603427e+09   115.681768   \n",
       "\n",
       "           word_count  \n",
       "subreddit              \n",
       "0           12.626125  \n",
       "1           18.427443  \n",
       "\n",
       "[2 rows x 34 columns]"
      ]
     },
     "execution_count": 14,
     "metadata": {},
     "output_type": "execute_result"
    }
   ],
   "source": [
    "df.groupby('subreddit').mean()"
   ]
  },
  {
   "cell_type": "code",
   "execution_count": 15,
   "id": "9fb92ba7",
   "metadata": {},
   "outputs": [],
   "source": [
    "X = df['title_and_st']\n",
    "y = df['subreddit']"
   ]
  },
  {
   "cell_type": "code",
   "execution_count": 16,
   "id": "5c386af3",
   "metadata": {},
   "outputs": [],
   "source": [
    "X_train, X_test, y_train, y_test = train_test_split(X, y, random_state=42, stratify=y)"
   ]
  },
  {
   "cell_type": "code",
   "execution_count": 17,
   "id": "476f8294",
   "metadata": {},
   "outputs": [],
   "source": [
    "# #https://stackoverflow.com/questions/5511708/adding-words-to-nltk-stoplist\n",
    "# import nltk\n",
    "\n",
    "# stopwords = nltk.corpus.stopwords.words('english')\n",
    "# stopwords.append('removed')\n",
    "# stopwords.append('deleted')"
   ]
  },
  {
   "cell_type": "code",
   "execution_count": 29,
   "id": "481dc759",
   "metadata": {},
   "outputs": [],
   "source": [
    "cvec = CountVectorizer(stop_words='english', ngram_range=(1,2))\n"
   ]
  },
  {
   "cell_type": "code",
   "execution_count": 30,
   "id": "534a04b8",
   "metadata": {},
   "outputs": [],
   "source": [
    "X_train_vec = cvec.fit_transform(X_train)"
   ]
  },
  {
   "cell_type": "code",
   "execution_count": 31,
   "id": "2278671a",
   "metadata": {},
   "outputs": [],
   "source": [
    "X_test_vec = cvec.transform(X_test)"
   ]
  },
  {
   "cell_type": "code",
   "execution_count": 53,
   "id": "17366bb2",
   "metadata": {},
   "outputs": [
    {
     "data": {
      "image/png": "[encoded data removed]",
      "text/plain": [
       "<Figure size 432x288 with 1 Axes>"
      ]
     },
     "metadata": {
      "needs_background": "light"
     },
     "output_type": "display_data"
    }
   ],
   "source": [
    "# convert training data to dataframe\n",
    "X_train_df = pd.DataFrame(tvec.fit_transform(X_train).todense(), \n",
    "                          columns=tvec.get_feature_names())\n",
    "\n",
    "# plot top occuring words\n",
    "X_train_df.sum().sort_values(ascending=False).head(10).sort_values(ascending=True).plot(kind='barh')\n",
    "plt.title('Key words Used')\n",
    "plt.savefig('Key words Used', bbox_inches='tight');"
   ]
  },
  {
   "cell_type": "code",
   "execution_count": 55,
   "id": "d7af8654",
   "metadata": {},
   "outputs": [],
   "source": [
    "X_train_df['lib_or_con'] = y_train.values"
   ]
  },
  {
   "cell_type": "code",
   "execution_count": 56,
   "id": "417b551f",
   "metadata": {},
   "outputs": [
    {
     "data": {
      "image/png": "[encoded data removed]",
      "text/plain": [
       "<Figure size 720x432 with 1 Axes>"
      ]
     },
     "metadata": {
      "needs_background": "light"
     },
     "output_type": "display_data"
    }
   ],
   "source": [
    "X_train_df.groupby('lib_or_con').sum().T.sort_values(1, \n",
    "                                    ascending=False).head(10).sort_values(1).plot(kind='barh', figsize=(10,6)) \n",
    "plt.title('Keywords by Subreddit')\n",
    "plt.savefig('Keywords by Subreddit', bbox_inches='tight')"
   ]
  },
  {
   "cell_type": "markdown",
   "id": "7356118f",
   "metadata": {},
   "source": [
    "### Created a KNN pipeline to test in the voting classifier"
   ]
  },
  {
   "cell_type": "code",
   "execution_count": 34,
   "id": "180d0953",
   "metadata": {},
   "outputs": [],
   "source": [
    "# from sklearn.neighbors import KNeighborsClassifier\n",
    "# from sklearn.preprocessing import StandardScaler\n",
    "# knn_pipe = Pipeline([\n",
    "#     ('ss', StandardScaler(with_mean=False)),\n",
    "#     ('knn', KNeighborsClassifier())\n",
    "# ])"
   ]
  },
  {
   "cell_type": "markdown",
   "id": "095a095a",
   "metadata": {},
   "source": [
    "### Created a Voting Clasifier"
   ]
  },
  {
   "cell_type": "code",
   "execution_count": 33,
   "id": "11dbce79",
   "metadata": {},
   "outputs": [
    {
     "name": "stdout",
     "output_type": "stream",
     "text": [
      "0.7907582749805491\n"
     ]
    },
    {
     "data": {
      "text/plain": [
       "{'log__C': 0.85, 'log__max_iter': 500, 'log__penalty': 'l2'}"
      ]
     },
     "execution_count": 33,
     "metadata": {},
     "output_type": "execute_result"
    }
   ],
   "source": [
    "vote = VotingClassifier([\n",
    "#     ('ada',AdaBoostClassifier(base_estimator=DecisionTreeClassifier())),\n",
    "#     ('gb', GradientBoostingClassifier()),\n",
    "#     ('rt', RandomForestClassifier()),\n",
    "    ('log', LogisticRegression()),\n",
    "#     ('knn_pipe', knn_pipe),\n",
    "#     ('tree', DecisionTreeClassifier())\n",
    "])\n",
    "params = {\n",
    "#     'gb__n_estimators': [200],\n",
    "#     'ada__base_estimator__max_depth': [1, 2, 3],\n",
    "#     'rt__n_estimators':[200],\n",
    "    'log__penalty':['l2'],\n",
    "    'log__C': [.85],\n",
    "    'log__max_iter': [500, 1000, 1500, 2000],\n",
    "#     'knn_pipe__knn__n_neighbors': [3, 4, 5, 6]\n",
    "#     'tree__max_depth': [2,3,5,7],\n",
    "#     'tree__min_samples_split':[5, 10, 15, 20],\n",
    "#     'tree__min_samples_leaf':[2, 3, 4, 5, 6],\n",
    "#     'tree__ccp_alpha':[0, 0.001, 0.01, 0.1, 1, 10]\n",
    "    \n",
    "}\n",
    "\n",
    "gs = GridSearchCV(vote, param_grid=params)\n",
    "gs.fit(X_train_vec, y_train)\n",
    "print(gs.best_score_)\n",
    "gs.best_params_"
   ]
  },
  {
   "cell_type": "markdown",
   "id": "f4bb5a5a",
   "metadata": {},
   "source": [
    "### Used the best parameters of the logistic regression model "
   ]
  },
  {
   "cell_type": "code",
   "execution_count": 34,
   "id": "f65bde77",
   "metadata": {},
   "outputs": [],
   "source": [
    "logreg = LogisticRegression(C=.85, max_iter=500)"
   ]
  },
  {
   "cell_type": "code",
   "execution_count": 35,
   "id": "d7e52541",
   "metadata": {},
   "outputs": [
    {
     "data": {
      "text/plain": [
       "LogisticRegression(C=0.85, max_iter=500)"
      ]
     },
     "execution_count": 35,
     "metadata": {},
     "output_type": "execute_result"
    }
   ],
   "source": [
    "logreg.fit(X_train_vec, y_train)"
   ]
  },
  {
   "cell_type": "code",
   "execution_count": 36,
   "id": "a457d832",
   "metadata": {},
   "outputs": [
    {
     "data": {
      "text/plain": [
       "(0.9818630392745216, 0.8004)"
      ]
     },
     "execution_count": 36,
     "metadata": {},
     "output_type": "execute_result"
    }
   ],
   "source": [
    "logreg.score(X_train_vec, y_train), logreg.score(X_test_vec, y_test)"
   ]
  },
  {
   "cell_type": "code",
   "execution_count": 37,
   "id": "e2f504a6",
   "metadata": {},
   "outputs": [
    {
     "data": {
      "text/plain": [
       "0.7907582749805491"
      ]
     },
     "execution_count": 37,
     "metadata": {},
     "output_type": "execute_result"
    }
   ],
   "source": [
    "cross_val_score(logreg, X_train_vec, y_train).mean()"
   ]
  },
  {
   "cell_type": "code",
   "execution_count": 57,
   "id": "9bc179ba",
   "metadata": {},
   "outputs": [
    {
     "data": {
      "image/png": "[encoded data removed]",
      "text/plain": [
       "<Figure size 432x288 with 2 Axes>"
      ]
     },
     "metadata": {
      "needs_background": "light"
     },
     "output_type": "display_data"
    }
   ],
   "source": [
    "plot_confusion_matrix(logreg, X_test_vec, y_test, display_labels=['Conservtive', 'Liberal'])\n",
    "plt.savefig('CM - Best Model', bbox_inches='tight');"
   ]
  },
  {
   "cell_type": "code",
   "execution_count": 39,
   "id": "a48518e6",
   "metadata": {},
   "outputs": [],
   "source": [
    "import sklearn.metrics as metrics\n"
   ]
  },
  {
   "cell_type": "code",
   "execution_count": 40,
   "id": "36f4661a",
   "metadata": {},
   "outputs": [],
   "source": [
    "preds = logreg.predict(X_test_vec)\n",
    "tn, fp, fn, tp = metrics.confusion_matrix(y_test, preds).flatten()"
   ]
  },
  {
   "cell_type": "markdown",
   "id": "b7bdaee7",
   "metadata": {},
   "source": [
    "## Sensitvity (recall)"
   ]
  },
  {
   "cell_type": "code",
   "execution_count": 41,
   "id": "c042bace",
   "metadata": {},
   "outputs": [
    {
     "data": {
      "text/plain": [
       "0.7852"
      ]
     },
     "execution_count": 41,
     "metadata": {},
     "output_type": "execute_result"
    }
   ],
   "source": [
    "recall = metrics.recall_score(y_test, preds)\n",
    "recall"
   ]
  },
  {
   "cell_type": "markdown",
   "id": "f85005ab",
   "metadata": {},
   "source": [
    "## Precision"
   ]
  },
  {
   "cell_type": "code",
   "execution_count": 42,
   "id": "d14ec81a",
   "metadata": {},
   "outputs": [
    {
     "data": {
      "text/plain": [
       "0.8098184818481848"
      ]
     },
     "execution_count": 42,
     "metadata": {},
     "output_type": "execute_result"
    }
   ],
   "source": [
    "precision = metrics.precision_score(y_test, preds)\n",
    "precision"
   ]
  },
  {
   "cell_type": "markdown",
   "id": "b8c24881",
   "metadata": {},
   "source": [
    "## Relationship between Precision and Sensitivity (from nlp-ii lesson)"
   ]
  },
  {
   "cell_type": "code",
   "execution_count": 43,
   "id": "efdfe239",
   "metadata": {},
   "outputs": [
    {
     "data": {
      "text/html": [
       "<div>\n",
       "<style scoped>\n",
       "    .dataframe tbody tr th:only-of-type {\n",
       "        vertical-align: middle;\n",
       "    }\n",
       "\n",
       "    .dataframe tbody tr th {\n",
       "        vertical-align: top;\n",
       "    }\n",
       "\n",
       "    .dataframe thead th {\n",
       "        text-align: right;\n",
       "    }\n",
       "</style>\n",
       "<table border=\"1\" class=\"dataframe\">\n",
       "  <thead>\n",
       "    <tr style=\"text-align: right;\">\n",
       "      <th></th>\n",
       "      <th>true_values</th>\n",
       "      <th>pred_probs</th>\n",
       "    </tr>\n",
       "  </thead>\n",
       "  <tbody>\n",
       "    <tr>\n",
       "      <th>11439</th>\n",
       "      <td>0</td>\n",
       "      <td>0.050167</td>\n",
       "    </tr>\n",
       "    <tr>\n",
       "      <th>19068</th>\n",
       "      <td>0</td>\n",
       "      <td>0.593741</td>\n",
       "    </tr>\n",
       "    <tr>\n",
       "      <th>3955</th>\n",
       "      <td>1</td>\n",
       "      <td>0.684408</td>\n",
       "    </tr>\n",
       "    <tr>\n",
       "      <th>8245</th>\n",
       "      <td>1</td>\n",
       "      <td>0.814025</td>\n",
       "    </tr>\n",
       "    <tr>\n",
       "      <th>2670</th>\n",
       "      <td>1</td>\n",
       "      <td>0.946403</td>\n",
       "    </tr>\n",
       "  </tbody>\n",
       "</table>\n",
       "</div>"
      ],
      "text/plain": [
       "       true_values  pred_probs\n",
       "11439            0    0.050167\n",
       "19068            0    0.593741\n",
       "3955             1    0.684408\n",
       "8245             1    0.814025\n",
       "2670             1    0.946403"
      ]
     },
     "execution_count": 43,
     "metadata": {},
     "output_type": "execute_result"
    }
   ],
   "source": [
    "pred_df = pd.DataFrame({'true_values': y_test,\n",
    "                        'pred_probs': logreg.predict_proba(X_test_vec)[:,1]})\n",
    "\n",
    "pred_df.head()"
   ]
  },
  {
   "cell_type": "code",
   "execution_count": 44,
   "id": "1714ab17",
   "metadata": {},
   "outputs": [
    {
     "name": "stderr",
     "output_type": "stream",
     "text": [
      "/Users/robertherndon/opt/anaconda3/lib/python3.8/site-packages/seaborn/distributions.py:2557: FutureWarning: `distplot` is a deprecated function and will be removed in a future version. Please adapt your code to use either `displot` (a figure-level function with similar flexibility) or `histplot` (an axes-level function for histograms).\n",
      "  warnings.warn(msg, FutureWarning)\n"
     ]
    },
    {
     "data": {
      "image/png": "[encoded data removed]",
      "text/plain": [
       "<Figure size 864x360 with 1 Axes>"
      ]
     },
     "metadata": {
      "needs_background": "light"
     },
     "output_type": "display_data"
    }
   ],
   "source": [
    "plt.figure(figsize = (12, 5))\n",
    "\n",
    "# plot distributions of predicted probabilities by actual values\n",
    "for group in pred_df.groupby('true_values'):\n",
    "    sns.distplot(group[1], kde = False, bins = 20, label = f'Actual Outcome = {group[0]}')\n",
    "\n",
    "plt.xlabel('Predicted Probability that Outcome = 1')\n",
    "plt.axvline(y.mean(), color='red')\n",
    "plt.legend();"
   ]
  },
  {
   "cell_type": "code",
   "execution_count": 58,
   "id": "e812d18d",
   "metadata": {},
   "outputs": [
    {
     "data": {
      "image/png": "[encoded data removed]",
      "text/plain": [
       "<Figure size 432x288 with 1 Axes>"
      ]
     },
     "metadata": {
      "needs_background": "light"
     },
     "output_type": "display_data"
    }
   ],
   "source": [
    "# ROC curve\n",
    "metrics.plot_roc_curve(logreg, X_test_vec, y_test)\n",
    "# add worst case scenario line\n",
    "plt.plot([0,1], [0,1], label=\"baseline\")\n",
    "# add a legend\n",
    "plt.legend()\n",
    "plt.savefig('ROC AUC', bbox_inches='tight');"
   ]
  },
  {
   "cell_type": "code",
   "execution_count": 46,
   "id": "37527bb7",
   "metadata": {},
   "outputs": [
    {
     "data": {
      "text/plain": [
       "0.8789871199999999"
      ]
     },
     "execution_count": 46,
     "metadata": {},
     "output_type": "execute_result"
    }
   ],
   "source": [
    "# Calculate ROC AUC.\n",
    "metrics.roc_auc_score(y_test, logreg.predict_proba(X_test_vec)[:, 1])"
   ]
  },
  {
   "cell_type": "markdown",
   "id": "8dac989d",
   "metadata": {},
   "source": [
    "## What posts were predicted to be in the Conserative(0) subreddit but were actually in the Liberal(1) subreddit?"
   ]
  },
  {
   "cell_type": "code",
   "execution_count": 47,
   "id": "0ea8952a",
   "metadata": {},
   "outputs": [
    {
     "data": {
      "text/plain": [
       "5423    Keep up the good work, Putin tells spy agency ...\n",
       "9065    Goplay168 Slot Online, Casino Online, Judi Bol...\n",
       "8564    Interactive map of who got PPP money. View fro...\n",
       "4332    UCLA wins $3.65-million grant to build ‘Age of...\n",
       "1079    FBI Reportedly Finds No Evidence That Jan. 6 W...\n",
       "                              ...                        \n",
       "3231             The Five Conceptions of American Liberty\n",
       "574              MILF Horny Naughty Enjoys with Hairbrush\n",
       "2022    Whitmire: Alabama lawmaker wants to ban critic...\n",
       "2500    White House backs bill establishing Jan. 6 com...\n",
       "2335                                       Save Americans\n",
       "Name: title_and_st, Length: 537, dtype: object"
      ]
     },
     "execution_count": 47,
     "metadata": {},
     "output_type": "execute_result"
    }
   ],
   "source": [
    "X_test[(y_test != preds) & (preds == 0)]"
   ]
  },
  {
   "cell_type": "code",
   "execution_count": null,
   "id": "92656a75",
   "metadata": {},
   "outputs": [],
   "source": []
  }
 ],
 "metadata": {
  "kernelspec": {
   "display_name": "Python 3",
   "language": "python",
   "name": "python3"
  },
  "language_info": {
   "codemirror_mode": {
    "name": "ipython",
    "version": 3
   },
   "file_extension": ".py",
   "mimetype": "text/x-python",
   "name": "python",
   "nbconvert_exporter": "python",
   "pygments_lexer": "ipython3",
   "version": "3.8.8"
  }
 },
 "nbformat": 4,
 "nbformat_minor": 5
}
