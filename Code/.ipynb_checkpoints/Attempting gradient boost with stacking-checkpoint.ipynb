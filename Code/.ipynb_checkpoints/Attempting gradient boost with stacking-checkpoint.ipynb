{
 "cells": [
  {
   "cell_type": "code",
   "execution_count": 1,
   "id": "d35e2781",
   "metadata": {},
   "outputs": [],
   "source": [
    "import pandas as pd\n",
    "from sklearn.pipeline import Pipeline\n",
    "from sklearn.feature_extraction.text import TfidfVectorizer\n",
    "from sklearn.ensemble import GradientBoostingClassifier, AdaBoostClassifier, RandomForestClassifier, StackingClassifier\n",
    "from sklearn.model_selection import train_test_split, GridSearchCV, cross_val_score\n",
    "from sklearn.metrics import plot_confusion_matrix\n",
    "from sklearn.tree import DecisionTreeClassifier\n",
    "from sklearn.neighbors import KNeighborsClassifier\n",
    "from sklearn.preprocessing import StandardScaler\n",
    "from sklearn.linear_model import LogisticRegression"
   ]
  },
  {
   "cell_type": "code",
   "execution_count": 3,
   "id": "37683730",
   "metadata": {},
   "outputs": [
    {
     "data": {
      "text/html": [
       "<div>\n",
       "<style scoped>\n",
       "    .dataframe tbody tr th:only-of-type {\n",
       "        vertical-align: middle;\n",
       "    }\n",
       "\n",
       "    .dataframe tbody tr th {\n",
       "        vertical-align: top;\n",
       "    }\n",
       "\n",
       "    .dataframe thead th {\n",
       "        text-align: right;\n",
       "    }\n",
       "</style>\n",
       "<table border=\"1\" class=\"dataframe\">\n",
       "  <thead>\n",
       "    <tr style=\"text-align: right;\">\n",
       "      <th></th>\n",
       "      <th>all_awardings</th>\n",
       "      <th>allow_live_comments</th>\n",
       "      <th>author</th>\n",
       "      <th>author_flair_css_class</th>\n",
       "      <th>author_flair_richtext</th>\n",
       "      <th>author_flair_text</th>\n",
       "      <th>author_flair_type</th>\n",
       "      <th>author_fullname</th>\n",
       "      <th>author_is_blocked</th>\n",
       "      <th>author_patreon_flair</th>\n",
       "      <th>...</th>\n",
       "      <th>crosspost_parent</th>\n",
       "      <th>crosspost_parent_list</th>\n",
       "      <th>edited</th>\n",
       "      <th>poll_data</th>\n",
       "      <th>suggested_sort</th>\n",
       "      <th>is_gallery</th>\n",
       "      <th>author_flair_template_id</th>\n",
       "      <th>link_flair_css_class</th>\n",
       "      <th>gallery_data</th>\n",
       "      <th>media_metadata</th>\n",
       "    </tr>\n",
       "  </thead>\n",
       "  <tbody>\n",
       "    <tr>\n",
       "      <th>0</th>\n",
       "      <td>[]</td>\n",
       "      <td>False</td>\n",
       "      <td>amnesiac7</td>\n",
       "      <td>NaN</td>\n",
       "      <td>[]</td>\n",
       "      <td>NaN</td>\n",
       "      <td>text</td>\n",
       "      <td>t2_7hi8y</td>\n",
       "      <td>False</td>\n",
       "      <td>False</td>\n",
       "      <td>...</td>\n",
       "      <td>NaN</td>\n",
       "      <td>NaN</td>\n",
       "      <td>NaN</td>\n",
       "      <td>NaN</td>\n",
       "      <td>NaN</td>\n",
       "      <td>NaN</td>\n",
       "      <td>NaN</td>\n",
       "      <td>NaN</td>\n",
       "      <td>NaN</td>\n",
       "      <td>NaN</td>\n",
       "    </tr>\n",
       "    <tr>\n",
       "      <th>1</th>\n",
       "      <td>[]</td>\n",
       "      <td>False</td>\n",
       "      <td>Bonsai37</td>\n",
       "      <td>NaN</td>\n",
       "      <td>[]</td>\n",
       "      <td>NaN</td>\n",
       "      <td>text</td>\n",
       "      <td>t2_8iqzl6l8</td>\n",
       "      <td>False</td>\n",
       "      <td>False</td>\n",
       "      <td>...</td>\n",
       "      <td>NaN</td>\n",
       "      <td>NaN</td>\n",
       "      <td>NaN</td>\n",
       "      <td>NaN</td>\n",
       "      <td>NaN</td>\n",
       "      <td>NaN</td>\n",
       "      <td>NaN</td>\n",
       "      <td>NaN</td>\n",
       "      <td>NaN</td>\n",
       "      <td>NaN</td>\n",
       "    </tr>\n",
       "    <tr>\n",
       "      <th>2</th>\n",
       "      <td>[]</td>\n",
       "      <td>False</td>\n",
       "      <td>progress18</td>\n",
       "      <td>NaN</td>\n",
       "      <td>[]</td>\n",
       "      <td>NaN</td>\n",
       "      <td>text</td>\n",
       "      <td>t2_nkk56</td>\n",
       "      <td>False</td>\n",
       "      <td>False</td>\n",
       "      <td>...</td>\n",
       "      <td>NaN</td>\n",
       "      <td>NaN</td>\n",
       "      <td>NaN</td>\n",
       "      <td>NaN</td>\n",
       "      <td>NaN</td>\n",
       "      <td>NaN</td>\n",
       "      <td>NaN</td>\n",
       "      <td>NaN</td>\n",
       "      <td>NaN</td>\n",
       "      <td>NaN</td>\n",
       "    </tr>\n",
       "    <tr>\n",
       "      <th>3</th>\n",
       "      <td>[]</td>\n",
       "      <td>False</td>\n",
       "      <td>Maxcactus</td>\n",
       "      <td>NaN</td>\n",
       "      <td>[]</td>\n",
       "      <td>NaN</td>\n",
       "      <td>text</td>\n",
       "      <td>t2_1vwn</td>\n",
       "      <td>False</td>\n",
       "      <td>False</td>\n",
       "      <td>...</td>\n",
       "      <td>NaN</td>\n",
       "      <td>NaN</td>\n",
       "      <td>NaN</td>\n",
       "      <td>NaN</td>\n",
       "      <td>NaN</td>\n",
       "      <td>NaN</td>\n",
       "      <td>NaN</td>\n",
       "      <td>NaN</td>\n",
       "      <td>NaN</td>\n",
       "      <td>NaN</td>\n",
       "    </tr>\n",
       "    <tr>\n",
       "      <th>4</th>\n",
       "      <td>[]</td>\n",
       "      <td>False</td>\n",
       "      <td>SLeeCunningham</td>\n",
       "      <td>NaN</td>\n",
       "      <td>[]</td>\n",
       "      <td>NaN</td>\n",
       "      <td>text</td>\n",
       "      <td>t2_6b4upjaa</td>\n",
       "      <td>False</td>\n",
       "      <td>False</td>\n",
       "      <td>...</td>\n",
       "      <td>NaN</td>\n",
       "      <td>NaN</td>\n",
       "      <td>NaN</td>\n",
       "      <td>NaN</td>\n",
       "      <td>NaN</td>\n",
       "      <td>NaN</td>\n",
       "      <td>NaN</td>\n",
       "      <td>NaN</td>\n",
       "      <td>NaN</td>\n",
       "      <td>NaN</td>\n",
       "    </tr>\n",
       "  </tbody>\n",
       "</table>\n",
       "<p>5 rows × 85 columns</p>\n",
       "</div>"
      ],
      "text/plain": [
       "  all_awardings  allow_live_comments          author author_flair_css_class  \\\n",
       "0            []                False       amnesiac7                    NaN   \n",
       "1            []                False        Bonsai37                    NaN   \n",
       "2            []                False      progress18                    NaN   \n",
       "3            []                False       Maxcactus                    NaN   \n",
       "4            []                False  SLeeCunningham                    NaN   \n",
       "\n",
       "  author_flair_richtext author_flair_text author_flair_type author_fullname  \\\n",
       "0                    []               NaN              text        t2_7hi8y   \n",
       "1                    []               NaN              text     t2_8iqzl6l8   \n",
       "2                    []               NaN              text        t2_nkk56   \n",
       "3                    []               NaN              text         t2_1vwn   \n",
       "4                    []               NaN              text     t2_6b4upjaa   \n",
       "\n",
       "  author_is_blocked author_patreon_flair  ... crosspost_parent  \\\n",
       "0             False                False  ...              NaN   \n",
       "1             False                False  ...              NaN   \n",
       "2             False                False  ...              NaN   \n",
       "3             False                False  ...              NaN   \n",
       "4             False                False  ...              NaN   \n",
       "\n",
       "  crosspost_parent_list  edited  poll_data  suggested_sort is_gallery  \\\n",
       "0                   NaN     NaN        NaN             NaN        NaN   \n",
       "1                   NaN     NaN        NaN             NaN        NaN   \n",
       "2                   NaN     NaN        NaN             NaN        NaN   \n",
       "3                   NaN     NaN        NaN             NaN        NaN   \n",
       "4                   NaN     NaN        NaN             NaN        NaN   \n",
       "\n",
       "  author_flair_template_id link_flair_css_class gallery_data media_metadata  \n",
       "0                      NaN                  NaN          NaN            NaN  \n",
       "1                      NaN                  NaN          NaN            NaN  \n",
       "2                      NaN                  NaN          NaN            NaN  \n",
       "3                      NaN                  NaN          NaN            NaN  \n",
       "4                      NaN                  NaN          NaN            NaN  \n",
       "\n",
       "[5 rows x 85 columns]"
      ]
     },
     "execution_count": 3,
     "metadata": {},
     "output_type": "execute_result"
    }
   ],
   "source": [
    "df = pd.read_csv('../Data/all_20000_posts.csv', low_memory=False)\n",
    "df.drop(columns=\"Unnamed: 0\", inplace=True)\n",
    "df.head()"
   ]
  },
  {
   "cell_type": "code",
   "execution_count": 4,
   "id": "aa019d3e",
   "metadata": {},
   "outputs": [],
   "source": [
    "df['selftext'] = df['selftext'].fillna('')"
   ]
  },
  {
   "cell_type": "code",
   "execution_count": 5,
   "id": "e9e3da94",
   "metadata": {},
   "outputs": [
    {
     "data": {
      "text/plain": [
       "4172"
      ]
     },
     "execution_count": 5,
     "metadata": {},
     "output_type": "execute_result"
    }
   ],
   "source": [
    "(df['selftext'] == '[removed]').sum()"
   ]
  },
  {
   "cell_type": "code",
   "execution_count": 6,
   "id": "45924ff9",
   "metadata": {},
   "outputs": [
    {
     "data": {
      "text/plain": [
       "0"
      ]
     },
     "execution_count": 6,
     "metadata": {},
     "output_type": "execute_result"
    }
   ],
   "source": [
    "(df['selftext'] == '[deleted]').sum()"
   ]
  },
  {
   "cell_type": "code",
   "execution_count": 7,
   "id": "c668826c",
   "metadata": {},
   "outputs": [],
   "source": [
    "df['title_and_st'] = df['title'] + df['selftext']"
   ]
  },
  {
   "cell_type": "code",
   "execution_count": 8,
   "id": "48f7c943",
   "metadata": {},
   "outputs": [],
   "source": [
    "df['subreddit'] = df['subreddit'].map({'Liberal':1, \"Conservative\":0})"
   ]
  },
  {
   "cell_type": "code",
   "execution_count": 9,
   "id": "fca1cb8e",
   "metadata": {},
   "outputs": [],
   "source": [
    "df['post_length'] = df['title_and_st'].apply(len)"
   ]
  },
  {
   "cell_type": "code",
   "execution_count": 10,
   "id": "33f26260",
   "metadata": {},
   "outputs": [],
   "source": [
    "df['word_count'] = [len(x.split()) for x in df['title_and_st'].tolist()]"
   ]
  },
  {
   "cell_type": "code",
   "execution_count": 11,
   "id": "45052d75",
   "metadata": {},
   "outputs": [
    {
     "data": {
      "text/html": [
       "<div>\n",
       "<style scoped>\n",
       "    .dataframe tbody tr th:only-of-type {\n",
       "        vertical-align: middle;\n",
       "    }\n",
       "\n",
       "    .dataframe tbody tr th {\n",
       "        vertical-align: top;\n",
       "    }\n",
       "\n",
       "    .dataframe thead th {\n",
       "        text-align: right;\n",
       "    }\n",
       "</style>\n",
       "<table border=\"1\" class=\"dataframe\">\n",
       "  <thead>\n",
       "    <tr style=\"text-align: right;\">\n",
       "      <th></th>\n",
       "      <th>allow_live_comments</th>\n",
       "      <th>can_mod_post</th>\n",
       "      <th>contest_mode</th>\n",
       "      <th>created_utc</th>\n",
       "      <th>is_crosspostable</th>\n",
       "      <th>is_meta</th>\n",
       "      <th>is_original_content</th>\n",
       "      <th>is_reddit_media_domain</th>\n",
       "      <th>is_robot_indexable</th>\n",
       "      <th>is_self</th>\n",
       "      <th>...</th>\n",
       "      <th>subreddit_subscribers</th>\n",
       "      <th>thumbnail_height</th>\n",
       "      <th>thumbnail_width</th>\n",
       "      <th>total_awards_received</th>\n",
       "      <th>upvote_ratio</th>\n",
       "      <th>wls</th>\n",
       "      <th>author_flair_background_color</th>\n",
       "      <th>edited</th>\n",
       "      <th>post_length</th>\n",
       "      <th>word_count</th>\n",
       "    </tr>\n",
       "    <tr>\n",
       "      <th>subreddit</th>\n",
       "      <th></th>\n",
       "      <th></th>\n",
       "      <th></th>\n",
       "      <th></th>\n",
       "      <th></th>\n",
       "      <th></th>\n",
       "      <th></th>\n",
       "      <th></th>\n",
       "      <th></th>\n",
       "      <th></th>\n",
       "      <th></th>\n",
       "      <th></th>\n",
       "      <th></th>\n",
       "      <th></th>\n",
       "      <th></th>\n",
       "      <th></th>\n",
       "      <th></th>\n",
       "      <th></th>\n",
       "      <th></th>\n",
       "      <th></th>\n",
       "      <th></th>\n",
       "    </tr>\n",
       "  </thead>\n",
       "  <tbody>\n",
       "    <tr>\n",
       "      <th>0</th>\n",
       "      <td>0.0004</td>\n",
       "      <td>0.0</td>\n",
       "      <td>0.0</td>\n",
       "      <td>1.636459e+09</td>\n",
       "      <td>0.528606</td>\n",
       "      <td>0.0</td>\n",
       "      <td>0.002901</td>\n",
       "      <td>0.121724</td>\n",
       "      <td>0.528606</td>\n",
       "      <td>0.113223</td>\n",
       "      <td>...</td>\n",
       "      <td>879403.498300</td>\n",
       "      <td>92.130231</td>\n",
       "      <td>139.848543</td>\n",
       "      <td>0.0006</td>\n",
       "      <td>0.995619</td>\n",
       "      <td>6.987998</td>\n",
       "      <td>NaN</td>\n",
       "      <td>1.635787e+09</td>\n",
       "      <td>80.194239</td>\n",
       "      <td>12.626125</td>\n",
       "    </tr>\n",
       "    <tr>\n",
       "      <th>1</th>\n",
       "      <td>0.0022</td>\n",
       "      <td>0.0</td>\n",
       "      <td>0.0</td>\n",
       "      <td>1.610913e+09</td>\n",
       "      <td>0.315932</td>\n",
       "      <td>0.0</td>\n",
       "      <td>0.000000</td>\n",
       "      <td>0.000000</td>\n",
       "      <td>0.315932</td>\n",
       "      <td>0.384538</td>\n",
       "      <td>...</td>\n",
       "      <td>100707.716672</td>\n",
       "      <td>88.233421</td>\n",
       "      <td>139.840770</td>\n",
       "      <td>0.0022</td>\n",
       "      <td>0.991325</td>\n",
       "      <td>6.265927</td>\n",
       "      <td>NaN</td>\n",
       "      <td>1.603427e+09</td>\n",
       "      <td>115.681768</td>\n",
       "      <td>18.427443</td>\n",
       "    </tr>\n",
       "  </tbody>\n",
       "</table>\n",
       "<p>2 rows × 34 columns</p>\n",
       "</div>"
      ],
      "text/plain": [
       "           allow_live_comments  can_mod_post  contest_mode   created_utc  \\\n",
       "subreddit                                                                  \n",
       "0                       0.0004           0.0           0.0  1.636459e+09   \n",
       "1                       0.0022           0.0           0.0  1.610913e+09   \n",
       "\n",
       "           is_crosspostable  is_meta  is_original_content  \\\n",
       "subreddit                                                   \n",
       "0                  0.528606      0.0             0.002901   \n",
       "1                  0.315932      0.0             0.000000   \n",
       "\n",
       "           is_reddit_media_domain  is_robot_indexable   is_self  ...  \\\n",
       "subreddit                                                        ...   \n",
       "0                        0.121724            0.528606  0.113223  ...   \n",
       "1                        0.000000            0.315932  0.384538  ...   \n",
       "\n",
       "           subreddit_subscribers  thumbnail_height  thumbnail_width  \\\n",
       "subreddit                                                             \n",
       "0                  879403.498300         92.130231       139.848543   \n",
       "1                  100707.716672         88.233421       139.840770   \n",
       "\n",
       "           total_awards_received  upvote_ratio       wls  \\\n",
       "subreddit                                                  \n",
       "0                         0.0006      0.995619  6.987998   \n",
       "1                         0.0022      0.991325  6.265927   \n",
       "\n",
       "           author_flair_background_color        edited  post_length  \\\n",
       "subreddit                                                             \n",
       "0                                    NaN  1.635787e+09    80.194239   \n",
       "1                                    NaN  1.603427e+09   115.681768   \n",
       "\n",
       "           word_count  \n",
       "subreddit              \n",
       "0           12.626125  \n",
       "1           18.427443  \n",
       "\n",
       "[2 rows x 34 columns]"
      ]
     },
     "execution_count": 11,
     "metadata": {},
     "output_type": "execute_result"
    }
   ],
   "source": [
    "df.groupby('subreddit').mean()"
   ]
  },
  {
   "cell_type": "code",
   "execution_count": 12,
   "id": "ae101442",
   "metadata": {},
   "outputs": [],
   "source": [
    "X = df['title_and_st']\n",
    "y = df['subreddit']"
   ]
  },
  {
   "cell_type": "code",
   "execution_count": 13,
   "id": "a1675ece",
   "metadata": {},
   "outputs": [],
   "source": [
    "X_train, X_test, y_train, y_test = train_test_split(X, y, random_state=42)"
   ]
  },
  {
   "cell_type": "code",
   "execution_count": 14,
   "id": "b46c79d0",
   "metadata": {},
   "outputs": [],
   "source": [
    "cvec = TfidfVectorizer(stop_words='english', ngram_range=(1,2))\n",
    "X_train_vec = cvec.fit_transform(X_train)\n",
    "X_test_vec = cvec.transform(X_test)"
   ]
  },
  {
   "cell_type": "code",
   "execution_count": 15,
   "id": "03b09c77",
   "metadata": {},
   "outputs": [],
   "source": [
    "level1_models = ([\n",
    "    ('ada',AdaBoostClassifier(base_estimator=DecisionTreeClassifier(max_depth=2))),\n",
    "    ('gb', GradientBoostingClassifier(n_estimators=200)),\n",
    "    ('rt', RandomForestClassifier(n_estimators=200)),\n",
    "    ('knn_pipe', Pipeline([\n",
    "        ('ss', StandardScaler(with_mean=False)),\n",
    "        ('knn', KNeighborsClassifier(n_neighbors=3))\n",
    "    ]))\n",
    "])\n",
    "stack = StackingClassifier(estimators=level1_models, final_estimator=LogisticRegression(C=.85, max_iter=30))"
   ]
  },
  {
   "cell_type": "code",
   "execution_count": 1,
   "id": "acb48dc0",
   "metadata": {},
   "outputs": [],
   "source": [
    "stack.fit(X_train_vec, y_train)"
   ]
  },
  {
   "cell_type": "code",
   "execution_count": 42,
   "id": "a442fa84",
   "metadata": {},
   "outputs": [
    {
     "data": {
      "text/plain": [
       "0.9909969989996665"
      ]
     },
     "execution_count": 42,
     "metadata": {},
     "output_type": "execute_result"
    }
   ],
   "source": [
    "stack.score(X_train_vec, y_train)"
   ]
  },
  {
   "cell_type": "code",
   "execution_count": 43,
   "id": "d1ae948e",
   "metadata": {},
   "outputs": [
    {
     "data": {
      "text/plain": [
       "0.742"
      ]
     },
     "execution_count": 43,
     "metadata": {},
     "output_type": "execute_result"
    }
   ],
   "source": [
    "stack.score(X_test_vec, y_val)"
   ]
  },
  {
   "cell_type": "code",
   "execution_count": 47,
   "id": "170302bb",
   "metadata": {},
   "outputs": [
    {
     "data": {
      "text/plain": [
       "0.7439031719532554"
      ]
     },
     "execution_count": 47,
     "metadata": {},
     "output_type": "execute_result"
    }
   ],
   "source": [
    "cross_val_score(stack, X_train_vec, y_train).mean()"
   ]
  },
  {
   "cell_type": "code",
   "execution_count": 44,
   "id": "77bd0953",
   "metadata": {},
   "outputs": [
    {
     "data": {
      "image/png": "[encoded data removed]",
      "text/plain": [
       "<Figure size 432x288 with 2 Axes>"
      ]
     },
     "metadata": {
      "needs_background": "light"
     },
     "output_type": "display_data"
    }
   ],
   "source": [
    "plot_confusion_matrix(stack, X_val_vec, y_val, display_labels=['Conservtive', 'Liberal']);"
   ]
  },
  {
   "cell_type": "code",
   "execution_count": null,
   "id": "67723a67",
   "metadata": {},
   "outputs": [],
   "source": []
  }
 ],
 "metadata": {
  "kernelspec": {
   "display_name": "Python 3",
   "language": "python",
   "name": "python3"
  },
  "language_info": {
   "codemirror_mode": {
    "name": "ipython",
    "version": 3
   },
   "file_extension": ".py",
   "mimetype": "text/x-python",
   "name": "python",
   "nbconvert_exporter": "python",
   "pygments_lexer": "ipython3",
   "version": "3.8.8"
  }
 },
 "nbformat": 4,
 "nbformat_minor": 5
}
