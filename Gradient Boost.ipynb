{
 "cells": [
  {
   "cell_type": "code",
   "execution_count": 49,
   "id": "ac7f4660",
   "metadata": {},
   "outputs": [],
   "source": [
    "import pandas as pd\n",
    "from sklearn.pipeline import Pipeline\n",
    "from sklearn.feature_extraction.text import TfidfVectorizer\n",
    "from sklearn.ensemble import GradientBoostingClassifier, AdaBoostClassifier, VotingClassifier, RandomForestClassifier\n",
    "from sklearn.model_selection import train_test_split, GridSearchCV, cross_val_score\n",
    "from sklearn.metrics import plot_confusion_matrix\n",
    "from sklearn.tree import DecisionTreeClassifier\n",
    "from sklearn.linear_model import LogisticRegression\n"
   ]
  },
  {
   "cell_type": "code",
   "execution_count": 3,
   "id": "b71c1ae0",
   "metadata": {},
   "outputs": [],
   "source": [
    "df = pd.read_csv('all_4000_posts.csv')"
   ]
  },
  {
   "cell_type": "code",
   "execution_count": 4,
   "id": "2c4092ff",
   "metadata": {},
   "outputs": [],
   "source": [
    "df.drop(columns=\"Unnamed: 0\", inplace=True)"
   ]
  },
  {
   "cell_type": "code",
   "execution_count": 5,
   "id": "912775dd",
   "metadata": {},
   "outputs": [],
   "source": [
    "df['selftext'] = df['selftext'].fillna('')\n"
   ]
  },
  {
   "cell_type": "code",
   "execution_count": 6,
   "id": "b3e6a774",
   "metadata": {},
   "outputs": [],
   "source": [
    "# df['selftext'].value_counts()"
   ]
  },
  {
   "cell_type": "code",
   "execution_count": 7,
   "id": "341508ac",
   "metadata": {},
   "outputs": [
    {
     "data": {
      "text/plain": [
       "683"
      ]
     },
     "execution_count": 7,
     "metadata": {},
     "output_type": "execute_result"
    }
   ],
   "source": [
    "(df['selftext'] == '[removed]').sum()"
   ]
  },
  {
   "cell_type": "code",
   "execution_count": 8,
   "id": "b63d6703",
   "metadata": {},
   "outputs": [
    {
     "data": {
      "text/plain": [
       "40"
      ]
     },
     "execution_count": 8,
     "metadata": {},
     "output_type": "execute_result"
    }
   ],
   "source": [
    "(df['selftext'] == '[deleted]').sum()"
   ]
  },
  {
   "cell_type": "code",
   "execution_count": 9,
   "id": "08d354cc",
   "metadata": {},
   "outputs": [],
   "source": [
    "# df['selftext'] = (df['selftext']).replace('[removed]', '')"
   ]
  },
  {
   "cell_type": "code",
   "execution_count": 10,
   "id": "b2520f22",
   "metadata": {},
   "outputs": [],
   "source": [
    "# df['selftext'] = (df['selftext']).replace('[deleted]', '')"
   ]
  },
  {
   "cell_type": "code",
   "execution_count": 11,
   "id": "ff51c521",
   "metadata": {},
   "outputs": [],
   "source": [
    "df['title_and_st'] = df['title'] + df['selftext']"
   ]
  },
  {
   "cell_type": "code",
   "execution_count": 12,
   "id": "0eb8b4d2",
   "metadata": {},
   "outputs": [
    {
     "data": {
      "text/plain": [
       "0"
      ]
     },
     "execution_count": 12,
     "metadata": {},
     "output_type": "execute_result"
    }
   ],
   "source": [
    "df.duplicated(subset=None, keep='first').sum()"
   ]
  },
  {
   "cell_type": "code",
   "execution_count": null,
   "id": "438161e2",
   "metadata": {},
   "outputs": [],
   "source": []
  },
  {
   "cell_type": "code",
   "execution_count": 13,
   "id": "222337ea",
   "metadata": {},
   "outputs": [],
   "source": [
    "df['subreddit'] = df['subreddit'].map({'Liberal':1, \"Conservative\":0})"
   ]
  },
  {
   "cell_type": "code",
   "execution_count": 14,
   "id": "389da901",
   "metadata": {},
   "outputs": [],
   "source": [
    "df['post_length'] = df['title_and_st'].apply(len)"
   ]
  },
  {
   "cell_type": "code",
   "execution_count": 15,
   "id": "82a3041d",
   "metadata": {},
   "outputs": [],
   "source": [
    "df['word_count'] = [len(x.split()) for x in df['title_and_st'].tolist()]"
   ]
  },
  {
   "cell_type": "code",
   "execution_count": 16,
   "id": "b5a707d1",
   "metadata": {},
   "outputs": [
    {
     "data": {
      "text/html": [
       "<div>\n",
       "<style scoped>\n",
       "    .dataframe tbody tr th:only-of-type {\n",
       "        vertical-align: middle;\n",
       "    }\n",
       "\n",
       "    .dataframe tbody tr th {\n",
       "        vertical-align: top;\n",
       "    }\n",
       "\n",
       "    .dataframe thead th {\n",
       "        text-align: right;\n",
       "    }\n",
       "</style>\n",
       "<table border=\"1\" class=\"dataframe\">\n",
       "  <thead>\n",
       "    <tr style=\"text-align: right;\">\n",
       "      <th></th>\n",
       "      <th>allow_live_comments</th>\n",
       "      <th>can_mod_post</th>\n",
       "      <th>contest_mode</th>\n",
       "      <th>created_utc</th>\n",
       "      <th>is_created_from_ads_ui</th>\n",
       "      <th>is_crosspostable</th>\n",
       "      <th>is_meta</th>\n",
       "      <th>is_original_content</th>\n",
       "      <th>is_reddit_media_domain</th>\n",
       "      <th>is_robot_indexable</th>\n",
       "      <th>...</th>\n",
       "      <th>stickied</th>\n",
       "      <th>subreddit_subscribers</th>\n",
       "      <th>thumbnail_height</th>\n",
       "      <th>thumbnail_width</th>\n",
       "      <th>total_awards_received</th>\n",
       "      <th>upvote_ratio</th>\n",
       "      <th>wls</th>\n",
       "      <th>author_flair_background_color</th>\n",
       "      <th>post_length</th>\n",
       "      <th>word_count</th>\n",
       "    </tr>\n",
       "    <tr>\n",
       "      <th>subreddit</th>\n",
       "      <th></th>\n",
       "      <th></th>\n",
       "      <th></th>\n",
       "      <th></th>\n",
       "      <th></th>\n",
       "      <th></th>\n",
       "      <th></th>\n",
       "      <th></th>\n",
       "      <th></th>\n",
       "      <th></th>\n",
       "      <th></th>\n",
       "      <th></th>\n",
       "      <th></th>\n",
       "      <th></th>\n",
       "      <th></th>\n",
       "      <th></th>\n",
       "      <th></th>\n",
       "      <th></th>\n",
       "      <th></th>\n",
       "      <th></th>\n",
       "      <th></th>\n",
       "    </tr>\n",
       "  </thead>\n",
       "  <tbody>\n",
       "    <tr>\n",
       "      <th>0</th>\n",
       "      <td>0.0005</td>\n",
       "      <td>0.0</td>\n",
       "      <td>0.0</td>\n",
       "      <td>1.636980e+09</td>\n",
       "      <td>0.0</td>\n",
       "      <td>0.509755</td>\n",
       "      <td>0.0</td>\n",
       "      <td>0.003502</td>\n",
       "      <td>0.117559</td>\n",
       "      <td>0.509755</td>\n",
       "      <td>...</td>\n",
       "      <td>0.0</td>\n",
       "      <td>881439.464732</td>\n",
       "      <td>91.835848</td>\n",
       "      <td>139.925166</td>\n",
       "      <td>0.0000</td>\n",
       "      <td>0.99930</td>\n",
       "      <td>6.995998</td>\n",
       "      <td>NaN</td>\n",
       "      <td>80.48074</td>\n",
       "      <td>12.69935</td>\n",
       "    </tr>\n",
       "    <tr>\n",
       "      <th>1</th>\n",
       "      <td>0.0000</td>\n",
       "      <td>0.0</td>\n",
       "      <td>0.0</td>\n",
       "      <td>1.630233e+09</td>\n",
       "      <td>0.0</td>\n",
       "      <td>0.435000</td>\n",
       "      <td>0.0</td>\n",
       "      <td>0.000000</td>\n",
       "      <td>0.000000</td>\n",
       "      <td>0.435000</td>\n",
       "      <td>...</td>\n",
       "      <td>0.0</td>\n",
       "      <td>108491.727000</td>\n",
       "      <td>85.720986</td>\n",
       "      <td>139.777424</td>\n",
       "      <td>0.0005</td>\n",
       "      <td>0.99559</td>\n",
       "      <td>5.971500</td>\n",
       "      <td>NaN</td>\n",
       "      <td>136.62100</td>\n",
       "      <td>21.48050</td>\n",
       "    </tr>\n",
       "  </tbody>\n",
       "</table>\n",
       "<p>2 rows × 34 columns</p>\n",
       "</div>"
      ],
      "text/plain": [
       "           allow_live_comments  can_mod_post  contest_mode   created_utc  \\\n",
       "subreddit                                                                  \n",
       "0                       0.0005           0.0           0.0  1.636980e+09   \n",
       "1                       0.0000           0.0           0.0  1.630233e+09   \n",
       "\n",
       "           is_created_from_ads_ui  is_crosspostable  is_meta  \\\n",
       "subreddit                                                      \n",
       "0                             0.0          0.509755      0.0   \n",
       "1                             0.0          0.435000      0.0   \n",
       "\n",
       "           is_original_content  is_reddit_media_domain  is_robot_indexable  \\\n",
       "subreddit                                                                    \n",
       "0                     0.003502                0.117559            0.509755   \n",
       "1                     0.000000                0.000000            0.435000   \n",
       "\n",
       "           ...  stickied  subreddit_subscribers  thumbnail_height  \\\n",
       "subreddit  ...                                                      \n",
       "0          ...       0.0          881439.464732         91.835848   \n",
       "1          ...       0.0          108491.727000         85.720986   \n",
       "\n",
       "           thumbnail_width  total_awards_received  upvote_ratio       wls  \\\n",
       "subreddit                                                                   \n",
       "0               139.925166                 0.0000       0.99930  6.995998   \n",
       "1               139.777424                 0.0005       0.99559  5.971500   \n",
       "\n",
       "           author_flair_background_color  post_length  word_count  \n",
       "subreddit                                                          \n",
       "0                                    NaN     80.48074    12.69935  \n",
       "1                                    NaN    136.62100    21.48050  \n",
       "\n",
       "[2 rows x 34 columns]"
      ]
     },
     "execution_count": 16,
     "metadata": {},
     "output_type": "execute_result"
    }
   ],
   "source": [
    "df.groupby('subreddit').mean()"
   ]
  },
  {
   "cell_type": "code",
   "execution_count": 17,
   "id": "9fb92ba7",
   "metadata": {},
   "outputs": [],
   "source": [
    "X = df['title_and_st']\n",
    "y = df['subreddit']"
   ]
  },
  {
   "cell_type": "code",
   "execution_count": 29,
   "id": "5c386af3",
   "metadata": {},
   "outputs": [],
   "source": [
    "X_train, X_test, y_train, y_test = train_test_split(X, y, random_state=42, stratify=y)"
   ]
  },
  {
   "cell_type": "code",
   "execution_count": 17,
   "id": "476f8294",
   "metadata": {},
   "outputs": [],
   "source": [
    "# #https://stackoverflow.com/questions/5511708/adding-words-to-nltk-stoplist\n",
    "# import nltk\n",
    "\n",
    "# stopwords = nltk.corpus.stopwords.words('english')\n",
    "# stopwords.append('removed')\n",
    "# stopwords.append('deleted')"
   ]
  },
  {
   "cell_type": "code",
   "execution_count": 30,
   "id": "481dc759",
   "metadata": {},
   "outputs": [],
   "source": [
    "tvec = TfidfVectorizer(stop_words='english', binary=True, max_df=.2, min_df=1, max_features=4000, \n",
    "                      ngram_range=(1,2))\n"
   ]
  },
  {
   "cell_type": "code",
   "execution_count": 31,
   "id": "534a04b8",
   "metadata": {},
   "outputs": [],
   "source": [
    "X_train_vec = tvec.fit_transform(X_train)"
   ]
  },
  {
   "cell_type": "code",
   "execution_count": 32,
   "id": "2278671a",
   "metadata": {},
   "outputs": [],
   "source": [
    "X_test_vec = tvec.transform(X_test)"
   ]
  },
  {
   "cell_type": "code",
   "execution_count": 33,
   "id": "17366bb2",
   "metadata": {},
   "outputs": [
    {
     "data": {
      "image/png": "[encoded data removed]",
      "text/plain": [
       "<Figure size 432x288 with 1 Axes>"
      ]
     },
     "metadata": {
      "needs_background": "light"
     },
     "output_type": "display_data"
    }
   ],
   "source": [
    "# convert training data to dataframe\n",
    "X_train_df = pd.DataFrame(tvec.fit_transform(X_train).todense(), \n",
    "                          columns=tvec.get_feature_names())\n",
    "\n",
    "# plot top occuring words\n",
    "X_train_df.sum().sort_values(ascending=False).head(10).sort_values(ascending=True).plot(kind='barh');"
   ]
  },
  {
   "cell_type": "code",
   "execution_count": 34,
   "id": "180d0953",
   "metadata": {},
   "outputs": [],
   "source": [
    "# from sklearn.neighbors import KNeighborsClassifier\n",
    "# from sklearn.preprocessing import StandardScaler\n",
    "# knn_pipe = Pipeline([\n",
    "#     ('ss', StandardScaler(with_mean=False)),\n",
    "#     ('knn', KNeighborsClassifier())\n",
    "# ])"
   ]
  },
  {
   "cell_type": "code",
   "execution_count": 35,
   "id": "11dbce79",
   "metadata": {},
   "outputs": [
    {
     "name": "stdout",
     "output_type": "stream",
     "text": [
      "0.7592554257095159\n"
     ]
    },
    {
     "data": {
      "text/plain": [
       "{'log__C': 0.85, 'log__max_iter': 30, 'log__penalty': 'l2'}"
      ]
     },
     "execution_count": 35,
     "metadata": {},
     "output_type": "execute_result"
    }
   ],
   "source": [
    "vote = VotingClassifier([\n",
    "#     ('ada',AdaBoostClassifier(base_estimator=DecisionTreeClassifier())),\n",
    "#     ('gb', GradientBoostingClassifier()),\n",
    "#     ('rt', RandomForestClassifier()),\n",
    "    ('log', LogisticRegression()),\n",
    "#     ('knn_pipe', knn_pipe),\n",
    "#     ('tree', DecisionTreeClassifier())\n",
    "])\n",
    "params = {\n",
    "#     'gb__n_estimators': [200],\n",
    "#     'ada__base_estimator__max_depth': [1, 2, 3],\n",
    "#     'rt__n_estimators':[200],\n",
    "    'log__penalty':['l2'],\n",
    "    'log__C': [.85],\n",
    "    'log__max_iter': [30],\n",
    "#     'knn_pipe__knn__n_neighbors': [3, 4, 5, 6]\n",
    "#     'tree__max_depth': [2,3,5,7],\n",
    "#     'tree__min_samples_split':[5, 10, 15, 20],\n",
    "#     'tree__min_samples_leaf':[2, 3, 4, 5, 6],\n",
    "#     'tree__ccp_alpha':[0, 0.001, 0.01, 0.1, 1, 10]\n",
    "    \n",
    "}\n",
    "\n",
    "gs = GridSearchCV(vote, param_grid=params)\n",
    "gs.fit(X_train_vec, y_train)\n",
    "print(gs.best_score_)\n",
    "gs.best_params_"
   ]
  },
  {
   "cell_type": "code",
   "execution_count": 46,
   "id": "f65bde77",
   "metadata": {},
   "outputs": [],
   "source": [
    "logreg = LogisticRegression(C=.85, max_iter=30)"
   ]
  },
  {
   "cell_type": "code",
   "execution_count": 47,
   "id": "d7e52541",
   "metadata": {},
   "outputs": [
    {
     "data": {
      "text/plain": [
       "LogisticRegression(C=0.85, max_iter=30)"
      ]
     },
     "execution_count": 47,
     "metadata": {},
     "output_type": "execute_result"
    }
   ],
   "source": [
    "logreg.fit(X_train_vec, y_train)"
   ]
  },
  {
   "cell_type": "code",
   "execution_count": 48,
   "id": "a457d832",
   "metadata": {},
   "outputs": [
    {
     "data": {
      "text/plain": [
       "(0.8942980993664554, 0.755)"
      ]
     },
     "execution_count": 48,
     "metadata": {},
     "output_type": "execute_result"
    }
   ],
   "source": [
    "logreg.score(X_train_vec, y_train), logreg.score(X_test_vec, y_test)"
   ]
  },
  {
   "cell_type": "code",
   "execution_count": 51,
   "id": "e2f504a6",
   "metadata": {},
   "outputs": [
    {
     "data": {
      "text/plain": [
       "0.7592554257095159"
      ]
     },
     "execution_count": 51,
     "metadata": {},
     "output_type": "execute_result"
    }
   ],
   "source": [
    "cross_val_score(logreg, X_train_vec, y_train).mean()"
   ]
  },
  {
   "cell_type": "code",
   "execution_count": 52,
   "id": "9bc179ba",
   "metadata": {},
   "outputs": [
    {
     "data": {
      "image/png": "[encoded data removed]",
      "text/plain": [
       "<Figure size 432x288 with 2 Axes>"
      ]
     },
     "metadata": {
      "needs_background": "light"
     },
     "output_type": "display_data"
    }
   ],
   "source": [
    "plot_confusion_matrix(logreg, X_test_vec, y_test, display_labels=['Conservtive', 'Liberal']);"
   ]
  },
  {
   "cell_type": "code",
   "execution_count": 53,
   "id": "a48518e6",
   "metadata": {},
   "outputs": [],
   "source": [
    "import matplotlib.pyplot as plt\n",
    "import seaborn as sns\n",
    "import sklearn.metrics as metrics\n"
   ]
  },
  {
   "cell_type": "code",
   "execution_count": 54,
   "id": "36f4661a",
   "metadata": {},
   "outputs": [],
   "source": [
    "preds = logreg.predict(X_test_vec)\n",
    "tn, fp, fn, tp = metrics.confusion_matrix(y_test, preds).flatten()"
   ]
  },
  {
   "cell_type": "markdown",
   "id": "b7bdaee7",
   "metadata": {},
   "source": [
    "## What is the Sensitvity?"
   ]
  },
  {
   "cell_type": "code",
   "execution_count": 55,
   "id": "c042bace",
   "metadata": {},
   "outputs": [
    {
     "data": {
      "text/plain": [
       "0.766"
      ]
     },
     "execution_count": 55,
     "metadata": {},
     "output_type": "execute_result"
    }
   ],
   "source": [
    "recall = metrics.recall_score(y_test, preds)\n",
    "recall"
   ]
  },
  {
   "cell_type": "markdown",
   "id": "f85005ab",
   "metadata": {},
   "source": [
    "## What is the Precision?"
   ]
  },
  {
   "cell_type": "code",
   "execution_count": 56,
   "id": "d14ec81a",
   "metadata": {},
   "outputs": [
    {
     "data": {
      "text/plain": [
       "0.7495107632093934"
      ]
     },
     "execution_count": 56,
     "metadata": {},
     "output_type": "execute_result"
    }
   ],
   "source": [
    "precision = metrics.precision_score(y_test, preds)\n",
    "precision"
   ]
  },
  {
   "cell_type": "markdown",
   "id": "b8c24881",
   "metadata": {},
   "source": [
    "## Relationship between Precision and Sensitivity"
   ]
  },
  {
   "cell_type": "code",
   "execution_count": 58,
   "id": "efdfe239",
   "metadata": {},
   "outputs": [
    {
     "data": {
      "text/html": [
       "<div>\n",
       "<style scoped>\n",
       "    .dataframe tbody tr th:only-of-type {\n",
       "        vertical-align: middle;\n",
       "    }\n",
       "\n",
       "    .dataframe tbody tr th {\n",
       "        vertical-align: top;\n",
       "    }\n",
       "\n",
       "    .dataframe thead th {\n",
       "        text-align: right;\n",
       "    }\n",
       "</style>\n",
       "<table border=\"1\" class=\"dataframe\">\n",
       "  <thead>\n",
       "    <tr style=\"text-align: right;\">\n",
       "      <th></th>\n",
       "      <th>true_values</th>\n",
       "      <th>pred_probs</th>\n",
       "    </tr>\n",
       "  </thead>\n",
       "  <tbody>\n",
       "    <tr>\n",
       "      <th>1886</th>\n",
       "      <td>1</td>\n",
       "      <td>0.882976</td>\n",
       "    </tr>\n",
       "    <tr>\n",
       "      <th>164</th>\n",
       "      <td>1</td>\n",
       "      <td>0.414048</td>\n",
       "    </tr>\n",
       "    <tr>\n",
       "      <th>150</th>\n",
       "      <td>1</td>\n",
       "      <td>0.696656</td>\n",
       "    </tr>\n",
       "    <tr>\n",
       "      <th>1423</th>\n",
       "      <td>1</td>\n",
       "      <td>0.791763</td>\n",
       "    </tr>\n",
       "    <tr>\n",
       "      <th>3678</th>\n",
       "      <td>0</td>\n",
       "      <td>0.077311</td>\n",
       "    </tr>\n",
       "  </tbody>\n",
       "</table>\n",
       "</div>"
      ],
      "text/plain": [
       "      true_values  pred_probs\n",
       "1886            1    0.882976\n",
       "164             1    0.414048\n",
       "150             1    0.696656\n",
       "1423            1    0.791763\n",
       "3678            0    0.077311"
      ]
     },
     "execution_count": 58,
     "metadata": {},
     "output_type": "execute_result"
    }
   ],
   "source": [
    "pred_df = pd.DataFrame({'true_values': y_test,\n",
    "                        'pred_probs': logreg.predict_proba(X_test_vec)[:,1]})\n",
    "\n",
    "pred_df.head()"
   ]
  },
  {
   "cell_type": "code",
   "execution_count": 66,
   "id": "1714ab17",
   "metadata": {},
   "outputs": [
    {
     "data": {
      "image/png": "[encoded data removed]",
      "text/plain": [
       "<Figure size 864x360 with 1 Axes>"
      ]
     },
     "metadata": {
      "needs_background": "light"
     },
     "output_type": "display_data"
    }
   ],
   "source": [
    "plt.figure(figsize = (12, 5))\n",
    "\n",
    "# plot distributions of predicted probabilities by actual values\n",
    "for group in pred_df.groupby('true_values'):\n",
    "    sns.distplot(group[1], kde = False, bins = 20, label = f'Actual Outcome = {group[0]}')\n",
    "\n",
    "plt.xlabel('Predicted Probability that Outcome = 1')\n",
    "plt.axvline(y.mean(), color='red')\n",
    "plt.legend();"
   ]
  },
  {
   "cell_type": "code",
   "execution_count": 64,
   "id": "e812d18d",
   "metadata": {},
   "outputs": [
    {
     "data": {
      "image/png": "[encoded data removed]",
      "text/plain": [
       "<Figure size 432x288 with 1 Axes>"
      ]
     },
     "metadata": {
      "needs_background": "light"
     },
     "output_type": "display_data"
    }
   ],
   "source": [
    "# ROC curve\n",
    "metrics.plot_roc_curve(logreg, X_test_vec, y_test)\n",
    "# add worst case scenario line\n",
    "plt.plot([0,1], [0,1], label=\"baseline\")\n",
    "# add a legend\n",
    "plt.legend();"
   ]
  },
  {
   "cell_type": "code",
   "execution_count": 68,
   "id": "37527bb7",
   "metadata": {},
   "outputs": [
    {
     "data": {
      "text/plain": [
       "0.8274519999999999"
      ]
     },
     "execution_count": 68,
     "metadata": {},
     "output_type": "execute_result"
    }
   ],
   "source": [
    "# Calculate ROC AUC.\n",
    "metrics.roc_auc_score(y_test, logreg.predict_proba(X_test_vec)[:, 1])"
   ]
  },
  {
   "cell_type": "code",
   "execution_count": 70,
   "id": "9bb389e9",
   "metadata": {},
   "outputs": [
    {
     "data": {
      "text/plain": [
       "array([1, 1, 1, 1, 0, 1, 1, 1, 1, 1, 1, 1, 1, 1, 0, 1, 1, 1, 1, 1, 1, 1,\n",
       "       1, 1, 1, 1, 1, 0, 1, 1, 1, 1, 1, 1, 1, 1, 1, 1, 1, 1, 1, 1, 1, 1,\n",
       "       1, 1, 1, 1, 1, 1, 0, 1, 1, 1, 1, 1, 1, 1, 1, 1, 1, 1, 1, 1, 1, 1,\n",
       "       1, 0, 1, 0, 1, 1, 1, 1, 1, 1, 1, 1, 1, 1, 1, 0, 1, 1, 1, 1, 1, 1,\n",
       "       1, 1, 1, 1, 1, 1, 1, 0, 1, 0, 1, 1, 1, 1, 1, 1, 1, 1, 1, 1, 1, 1,\n",
       "       1, 1, 1, 1, 1, 1, 1, 1, 1, 1, 1, 1, 0, 1, 1, 1, 1, 1, 1, 1, 1, 1,\n",
       "       1, 1, 1, 1, 1, 1, 1, 1, 1, 1, 1, 1, 0, 0, 1, 1, 1, 1, 1, 1, 1, 1,\n",
       "       0, 1, 1, 1, 1, 0, 1, 1, 1, 1, 1, 1, 0, 1, 0, 1, 1, 1, 1, 1, 1, 0,\n",
       "       1, 1, 1, 1, 1, 1, 1, 1, 1, 1, 1, 1, 1, 1, 0, 1, 1, 1, 1, 1, 1, 1,\n",
       "       0, 1, 1, 1, 1, 0, 1, 1, 1, 1, 1, 1, 1, 1, 1, 0, 1, 1, 1, 1, 1, 1,\n",
       "       1, 1, 1, 1, 1, 0, 0, 1, 1, 1, 1, 1, 1, 1, 1, 0, 1, 1, 1, 1, 1, 1,\n",
       "       1, 1, 1, 0, 1, 0, 1, 1, 1, 1, 1, 1, 0, 1, 1, 1, 1, 1, 1, 1, 1, 1,\n",
       "       1, 1, 1, 1, 1, 1, 1, 1, 1, 1, 1, 0, 0, 0, 1, 1, 1, 1, 1, 1, 1, 1,\n",
       "       1, 1, 1, 1, 1, 1, 1, 0, 0, 1, 1, 1, 1, 0, 1, 0, 1, 1, 1, 1, 1, 1,\n",
       "       1, 0, 0, 1, 1, 1, 1, 1, 1, 0, 1, 1, 0, 1, 1, 1, 1, 1, 0, 1, 1, 0,\n",
       "       1, 0, 0, 1, 1, 0, 0, 1, 1, 1, 1, 1, 1, 1, 1, 1, 1, 1, 1, 1, 0, 1,\n",
       "       1, 1, 1, 1, 1, 0, 0, 1, 1, 0, 0, 0, 1, 0, 1, 1, 1, 1, 1, 1, 1, 0,\n",
       "       1, 1, 1, 1, 1, 1, 1, 1, 1, 1, 0, 1, 1, 1, 0, 1, 1, 1, 1, 1, 1, 1,\n",
       "       1, 1, 1, 1, 1, 1, 0, 1, 1, 1, 0, 1, 1, 0, 0, 1, 1, 0, 1, 1, 1, 1,\n",
       "       1, 1, 1, 0, 1, 1, 1, 1, 1, 1, 1, 0, 0, 1, 1, 0, 1, 1, 1, 1, 1, 1,\n",
       "       1, 1, 1, 0, 0, 1, 1, 1, 1, 1, 1, 1, 1, 1, 0, 1, 1, 1, 1, 1, 1, 1,\n",
       "       1, 1, 0, 1, 1, 0, 1, 1, 1, 1, 1, 0, 1, 1, 1, 1, 1, 1, 1, 1, 0, 0,\n",
       "       1, 0, 1, 1, 1, 1, 1, 0, 1, 1, 1, 1, 1, 1, 1, 1, 1, 1, 1, 1, 1, 1,\n",
       "       1, 0, 0, 1, 0, 1, 1, 1, 1, 1, 1, 1, 1, 1, 0, 1, 1, 0, 1, 1, 1, 0,\n",
       "       1, 1, 1, 1, 1, 1, 1, 1, 1, 1, 1, 1, 1, 1, 1, 1, 1, 1, 1, 1, 1, 1,\n",
       "       1, 1, 1, 1, 1, 1, 1, 1, 1, 1, 1, 1, 1, 1, 1, 1, 1, 1, 0, 1, 1, 1,\n",
       "       1, 0, 1, 1, 1, 0, 1, 1, 1, 1, 1, 1, 1, 1, 0, 1, 1, 1, 1, 0, 1, 1,\n",
       "       0, 1, 0, 1, 1, 1, 1, 1, 1, 0, 1, 1, 0, 1, 1, 1, 1, 1, 1, 1, 1, 1,\n",
       "       1, 1, 1, 0, 0, 0, 1, 1, 1, 1, 1, 0, 1, 1, 1, 1, 1, 1, 0, 1, 1, 1,\n",
       "       1, 1, 1, 1, 1, 1, 1, 1, 1, 1, 1, 1, 1, 1, 0, 0, 1, 1, 1, 1, 1, 1,\n",
       "       1, 1, 1, 1, 1, 1, 1, 1, 1, 0, 1, 0, 1, 1, 1, 1, 1, 1, 0, 1, 1, 1,\n",
       "       1, 1, 1, 1, 1, 1, 1, 1, 0, 1, 1, 1, 1, 1, 0, 1, 1, 1, 1, 1, 1, 0,\n",
       "       0, 1, 1, 1, 1, 1, 0, 1, 1, 1, 1, 1, 1, 0, 1, 1, 1, 0, 1, 1, 1, 0,\n",
       "       1, 1, 1, 1, 0, 1, 1, 1, 1, 1, 1, 1, 1, 1, 1, 0, 1, 1, 1, 1, 1, 1,\n",
       "       1, 1, 1, 0, 1, 1, 1, 1, 1, 0, 1, 0, 0, 1, 1, 1, 1, 1, 1, 1, 1, 1,\n",
       "       1, 0, 1, 1, 1, 1, 0, 0, 0, 1, 1, 1, 1, 1, 1, 1, 1, 1, 1, 1, 1, 1,\n",
       "       1, 1, 0, 0, 1, 1, 0, 1, 1, 1, 1, 0, 1, 0, 1, 1, 1, 1, 1, 1, 1, 1,\n",
       "       1, 1, 1, 1, 1, 1, 0, 1, 1, 1, 0, 1, 1, 0, 1, 1, 1, 1, 1, 1, 1, 1,\n",
       "       1, 1, 1, 1, 0, 1, 1, 1, 1, 0, 1, 1, 0, 1, 1, 1, 1, 1, 0, 1, 1, 1,\n",
       "       1, 1, 1, 0, 1, 1, 1, 0, 1, 1, 1, 1, 0, 0, 1, 1, 1, 1, 1, 1, 0, 1,\n",
       "       0, 1, 1, 1, 1, 1, 1, 1, 1, 0, 1, 1, 1, 1, 1, 1, 1, 0, 1, 0, 1, 0,\n",
       "       1, 1, 0, 1, 1, 1, 1, 1, 1, 1, 0, 1, 1, 1, 1, 0, 1, 1, 1, 1, 1, 1,\n",
       "       1, 0, 1, 0, 1, 1, 1, 0, 0, 1, 1, 1, 1, 1, 1, 1, 1, 1, 1, 1, 0, 1,\n",
       "       1, 1, 1, 1, 1, 1, 1, 1, 1, 1, 1, 0, 1, 1, 1, 1, 1, 0, 1, 1, 1, 1,\n",
       "       1, 1, 1, 1, 0, 1, 1, 1, 1, 1, 1, 1, 0, 1, 1, 1, 1, 1, 1, 1, 0, 1,\n",
       "       1, 1, 1, 1, 1, 0, 0, 1, 1, 1])"
      ]
     },
     "execution_count": 70,
     "metadata": {},
     "output_type": "execute_result"
    }
   ],
   "source": [
    "# get list of probabilities\n",
    "probs = logreg.predict_proba(X_test_vec)[:, 1]\n",
    "\n",
    "cutoff = .3\n",
    "conservative_predictions = (probs > cutoff).astype(int)\n",
    "conservative_predictions"
   ]
  },
  {
   "cell_type": "code",
   "execution_count": 71,
   "id": "922b93fd",
   "metadata": {},
   "outputs": [
    {
     "data": {
      "text/plain": [
       "(0.766, 0.974)"
      ]
     },
     "execution_count": 71,
     "metadata": {},
     "output_type": "execute_result"
    }
   ],
   "source": [
    "recall, metrics.recall_score(y_test, conservative_predictions)\n"
   ]
  },
  {
   "cell_type": "markdown",
   "id": "8dac989d",
   "metadata": {},
   "source": [
    "## What words were predicted to be in the Conserative(0) subreddit but we actually in the Liberal(1)?"
   ]
  },
  {
   "cell_type": "code",
   "execution_count": 72,
   "id": "0ea8952a",
   "metadata": {},
   "outputs": [
    {
     "data": {
      "text/plain": [
       "164     Let's Go Brandon - Liberals should rebrand[rem...\n",
       "735            Dems’ shameless, pointless Ground Zero act\n",
       "699     Jan 6 protests tomorrow (discussion)Am I the o...\n",
       "668     founds this kinda interesting my fellow libs! ...\n",
       "302     Candace Owens calls on the US to invade Australia\n",
       "                              ...                        \n",
       "128                      How Democrats Can Save Democracy\n",
       "312     Joe Biden Declares Mandatory Vaccination for A...\n",
       "1203    Congress is about to get a shake-up. Here's wh...\n",
       "377     Joe Biden's Handlers Deliberately Cut His Live...\n",
       "1442                GOP up in arms over Cheney, Kinzinger\n",
       "Name: title_and_st, Length: 117, dtype: object"
      ]
     },
     "execution_count": 72,
     "metadata": {},
     "output_type": "execute_result"
    }
   ],
   "source": [
    "X_test[(y_test != preds) & (preds == 0)]"
   ]
  },
  {
   "cell_type": "code",
   "execution_count": null,
   "id": "92656a75",
   "metadata": {},
   "outputs": [],
   "source": []
  }
 ],
 "metadata": {
  "kernelspec": {
   "display_name": "Python 3",
   "language": "python",
   "name": "python3"
  },
  "language_info": {
   "codemirror_mode": {
    "name": "ipython",
    "version": 3
   },
   "file_extension": ".py",
   "mimetype": "text/x-python",
   "name": "python",
   "nbconvert_exporter": "python",
   "pygments_lexer": "ipython3",
   "version": "3.8.8"
  }
 },
 "nbformat": 4,
 "nbformat_minor": 5
}
